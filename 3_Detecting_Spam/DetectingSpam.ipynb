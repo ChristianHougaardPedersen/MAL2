{
 "cells": [
  {
   "cell_type": "code",
   "execution_count": 36,
   "metadata": {},
   "outputs": [],
   "source": [
    "import tensorflow as tf\n",
    "from tensorflow.keras.preprocessing.sequence import pad_sequences\n",
    "from tensorflow.keras.models import Sequential\n",
    "from tensorflow.keras.preprocessing.text import one_hot\n",
    "from tensorflow.keras.layers import LSTM\n",
    "from tensorflow.keras.layers import Dense\n",
    "from tensorflow.keras.models import Sequential\n",
    "from tensorflow.keras.layers import Dropout, LSTM, Dense, Embedding\n",
    "from tensorflow.keras.callbacks import EarlyStopping, ReduceLROnPlateau\n",
    "import pandas as pd\n",
    "import matplotlib.pyplot as plt\n",
    "import nltk\n",
    "import re\n",
    "from nltk.corpus import stopwords\n",
    "from nltk.stem.porter import PorterStemmer\n",
    "from nltk.stem import WordNetLemmatizer\n",
    "from sklearn.metrics import confusion_matrix\n",
    "from sklearn.model_selection import train_test_split\n",
    "import numpy as np\n",
    "import seaborn as sns\n",
    "from sklearn.preprocessing import LabelEncoder\n",
    "from keras import layers\n"
   ]
  },
  {
   "cell_type": "markdown",
   "metadata": {},
   "source": [
    "Importing the data"
   ]
  },
  {
   "cell_type": "code",
   "execution_count": 46,
   "metadata": {},
   "outputs": [
    {
     "data": {
      "text/html": [
       "<div>\n",
       "<style scoped>\n",
       "    .dataframe tbody tr th:only-of-type {\n",
       "        vertical-align: middle;\n",
       "    }\n",
       "\n",
       "    .dataframe tbody tr th {\n",
       "        vertical-align: top;\n",
       "    }\n",
       "\n",
       "    .dataframe thead th {\n",
       "        text-align: right;\n",
       "    }\n",
       "</style>\n",
       "<table border=\"1\" class=\"dataframe\">\n",
       "  <thead>\n",
       "    <tr style=\"text-align: right;\">\n",
       "      <th></th>\n",
       "      <th>Class</th>\n",
       "      <th>Message</th>\n",
       "    </tr>\n",
       "  </thead>\n",
       "  <tbody>\n",
       "    <tr>\n",
       "      <th>0</th>\n",
       "      <td>ham</td>\n",
       "      <td>Go until jurong point, crazy.. Available only ...</td>\n",
       "    </tr>\n",
       "    <tr>\n",
       "      <th>1</th>\n",
       "      <td>ham</td>\n",
       "      <td>Ok lar... Joking wif u oni...</td>\n",
       "    </tr>\n",
       "    <tr>\n",
       "      <th>2</th>\n",
       "      <td>spam</td>\n",
       "      <td>Free entry in 2 a wkly comp to win FA Cup fina...</td>\n",
       "    </tr>\n",
       "    <tr>\n",
       "      <th>3</th>\n",
       "      <td>ham</td>\n",
       "      <td>U dun say so early hor... U c already then say...</td>\n",
       "    </tr>\n",
       "    <tr>\n",
       "      <th>4</th>\n",
       "      <td>ham</td>\n",
       "      <td>Nah I don't think he goes to usf, he lives aro...</td>\n",
       "    </tr>\n",
       "    <tr>\n",
       "      <th>...</th>\n",
       "      <td>...</td>\n",
       "      <td>...</td>\n",
       "    </tr>\n",
       "    <tr>\n",
       "      <th>5569</th>\n",
       "      <td>spam</td>\n",
       "      <td>This is the 2nd time we have tried 2 contact u...</td>\n",
       "    </tr>\n",
       "    <tr>\n",
       "      <th>5570</th>\n",
       "      <td>ham</td>\n",
       "      <td>Will ü b going to esplanade fr home?</td>\n",
       "    </tr>\n",
       "    <tr>\n",
       "      <th>5571</th>\n",
       "      <td>ham</td>\n",
       "      <td>Pity, * was in mood for that. So...any other s...</td>\n",
       "    </tr>\n",
       "    <tr>\n",
       "      <th>5572</th>\n",
       "      <td>ham</td>\n",
       "      <td>The guy did some bitching but I acted like i'd...</td>\n",
       "    </tr>\n",
       "    <tr>\n",
       "      <th>5573</th>\n",
       "      <td>ham</td>\n",
       "      <td>Rofl. Its true to its name</td>\n",
       "    </tr>\n",
       "  </tbody>\n",
       "</table>\n",
       "<p>5574 rows × 2 columns</p>\n",
       "</div>"
      ],
      "text/plain": [
       "     Class                                            Message\n",
       "0      ham  Go until jurong point, crazy.. Available only ...\n",
       "1      ham                      Ok lar... Joking wif u oni...\n",
       "2     spam  Free entry in 2 a wkly comp to win FA Cup fina...\n",
       "3      ham  U dun say so early hor... U c already then say...\n",
       "4      ham  Nah I don't think he goes to usf, he lives aro...\n",
       "...    ...                                                ...\n",
       "5569  spam  This is the 2nd time we have tried 2 contact u...\n",
       "5570   ham               Will ü b going to esplanade fr home?\n",
       "5571   ham  Pity, * was in mood for that. So...any other s...\n",
       "5572   ham  The guy did some bitching but I acted like i'd...\n",
       "5573   ham                         Rofl. Its true to its name\n",
       "\n",
       "[5574 rows x 2 columns]"
      ]
     },
     "execution_count": 46,
     "metadata": {},
     "output_type": "execute_result"
    }
   ],
   "source": [
    "df=pd.read_csv(\"Spam_SMS.csv\")\n",
    "df=df.dropna()\n",
    "df"
   ]
  },
  {
   "cell_type": "code",
   "execution_count": 15,
   "metadata": {},
   "outputs": [
    {
     "data": {
      "image/png": "[encoded data removed]",
      "text/plain": [
       "<Figure size 600x600 with 1 Axes>"
      ]
     },
     "metadata": {},
     "output_type": "display_data"
    }
   ],
   "source": [
    "label_counts = df['Class'].value_counts()\n",
    "\n",
    "# Calculate percentages\n",
    "total = label_counts.sum()\n",
    "percentages = (label_counts / total) * 100\n",
    "\n",
    "# Create a bar plot\n",
    "plt.figure(figsize=(6, 6))\n",
    "bars = plt.bar(['ham', 'spam'], label_counts, color=['#66b3ff', '#ff6666'])\n",
    "\n",
    "# Add percentage labels on top of each bar\n",
    "for bar, percentage in zip(bars, percentages):\n",
    "    plt.text(\n",
    "        bar.get_x() + bar.get_width() / 2,  # x-coordinate: center of the bar\n",
    "        bar.get_height(),  # y-coordinate: top of the bar\n",
    "        f'{percentage:.1f}%',  # label with one decimal place\n",
    "        ha='center',  # horizontal alignment\n",
    "        va='bottom'   # vertical alignment\n",
    "    )\n",
    "\n",
    "plt.title('Count of Ham and Spam Reviews')\n",
    "plt.xlabel('Class')\n",
    "plt.ylabel('Count')\n",
    "plt.show()"
   ]
  },
  {
   "cell_type": "code",
   "execution_count": null,
   "metadata": {},
   "outputs": [
    {
     "data": {
      "text/plain": [
       "(5574, 1)"
      ]
     },
     "execution_count": 111,
     "metadata": {},
     "output_type": "execute_result"
    }
   ],
   "source": [
    "X = df.drop('Class', axis=1)\n",
    "y = df['Class']"
   ]
  },
  {
   "cell_type": "code",
   "execution_count": 108,
   "metadata": {},
   "outputs": [
    {
     "name": "stdout",
     "output_type": "stream",
     "text": [
      "Total chars: 85\n"
     ]
    },
    {
     "data": {
      "text/plain": [
       "TensorShape([5574, 910])"
      ]
     },
     "execution_count": 108,
     "metadata": {},
     "output_type": "execute_result"
    }
   ],
   "source": [
    "text_vec_layer = tf.keras.layers.TextVectorization(split = \"character\", standardize = \"lower\",output_sequence_length = 910)\n",
    "text_vec_layer.adapt(X)\n",
    "\n",
    "n_tokens = text_vec_layer.vocabulary_size() #0 = padding, 1 = unknown\n",
    "print(\"Total chars:\", n_tokens)\n",
    "\n",
    "X_vectorized = text_vec_layer(X)\n",
    "np.shape(X_vectorized)"
   ]
  },
  {
   "cell_type": "code",
   "execution_count": 48,
   "metadata": {},
   "outputs": [
    {
     "data": {
      "text/plain": [
       "0        ham\n",
       "1        ham\n",
       "2       spam\n",
       "3        ham\n",
       "4        ham\n",
       "        ... \n",
       "5569    spam\n",
       "5570     ham\n",
       "5571     ham\n",
       "5572     ham\n",
       "5573     ham\n",
       "Name: Class, Length: 5574, dtype: object"
      ]
     },
     "execution_count": 48,
     "metadata": {},
     "output_type": "execute_result"
    }
   ],
   "source": [
    "y"
   ]
  },
  {
   "cell_type": "code",
   "execution_count": 30,
   "metadata": {},
   "outputs": [
    {
     "data": {
      "text/plain": [
       "array([0, 0, 1, 0])"
      ]
     },
     "execution_count": 30,
     "metadata": {},
     "output_type": "execute_result"
    }
   ],
   "source": [
    "label_encoder = LabelEncoder()\n",
    "y = label_encoder.fit_transform(y) \n",
    "y[:4]"
   ]
  },
  {
   "cell_type": "code",
   "execution_count": null,
   "metadata": {},
   "outputs": [],
   "source": [
    "# Define embedding vector features\n",
    "embedding_vector_features = 30\n",
    "\n",
    "# Create a simple sequential model\n",
    "model = Sequential()\n",
    "\n",
    "# Embedding layer\n",
    "model.add(Embedding(n_tokens, embedding_vector_features,))\n",
    "\n",
    "# Single LSTM layer\n",
    "model.add(LSTM(64))  # Using fewer units\n",
    "\n",
    "# Dropout layer to prevent overfitting\n",
    "model.add(Dropout(0.3))  # Lower dropout rate\n",
    "\n",
    "# Output layer\n",
    "model.add(Dense(1, activation='sigmoid'))\n",
    "\n",
    "# Compile the model\n",
    "model.compile(loss='binary_crossentropy', optimizer='adam', metrics=['accuracy'])\n",
    "\n",
    "# Callbacks\n",
    "early_stopping = EarlyStopping(monitor='val_loss', patience=5, restore_best_weights=True)\n",
    "reduce_lr = ReduceLROnPlateau(monitor='val_loss', factor=0.2, patience=2, min_lr=0.0001)"
   ]
  },
  {
   "cell_type": "code",
   "execution_count": 33,
   "metadata": {},
   "outputs": [],
   "source": [
    "X_final=np.array(X_vectorized)\n",
    "y_final=np.array(y)\n",
    "X_train, X_test, y_train, y_test = train_test_split(X_final, y_final, test_size=0.25, random_state=42,shuffle = True)"
   ]
  },
  {
   "cell_type": "code",
   "execution_count": 34,
   "metadata": {},
   "outputs": [
    {
     "name": "stdout",
     "output_type": "stream",
     "text": [
      "Epoch 1/20\n",
      "\u001b[1m131/131\u001b[0m \u001b[32m━━━━━━━━━━━━━━━━━━━━\u001b[0m\u001b[37m\u001b[0m \u001b[1m64s\u001b[0m 434ms/step - accuracy: 0.8587 - loss: 0.4595 - val_accuracy: 0.8630 - val_loss: 0.4001 - learning_rate: 0.0010\n",
      "Epoch 2/20\n",
      "\u001b[1m131/131\u001b[0m \u001b[32m━━━━━━━━━━━━━━━━━━━━\u001b[0m\u001b[37m\u001b[0m \u001b[1m41s\u001b[0m 311ms/step - accuracy: 0.8741 - loss: 0.3819 - val_accuracy: 0.8630 - val_loss: 0.4004 - learning_rate: 0.0010\n",
      "Epoch 3/20\n",
      "\u001b[1m131/131\u001b[0m \u001b[32m━━━━━━━━━━━━━━━━━━━━\u001b[0m\u001b[37m\u001b[0m \u001b[1m42s\u001b[0m 318ms/step - accuracy: 0.8630 - loss: 0.4044 - val_accuracy: 0.8630 - val_loss: 0.3997 - learning_rate: 0.0010\n",
      "Epoch 4/20\n",
      "\u001b[1m131/131\u001b[0m \u001b[32m━━━━━━━━━━━━━━━━━━━━\u001b[0m\u001b[37m\u001b[0m \u001b[1m41s\u001b[0m 313ms/step - accuracy: 0.8709 - loss: 0.3922 - val_accuracy: 0.8630 - val_loss: 0.4004 - learning_rate: 0.0010\n",
      "Epoch 5/20\n",
      "\u001b[1m131/131\u001b[0m \u001b[32m━━━━━━━━━━━━━━━━━━━━\u001b[0m\u001b[37m\u001b[0m \u001b[1m41s\u001b[0m 315ms/step - accuracy: 0.8686 - loss: 0.3899 - val_accuracy: 0.8630 - val_loss: 0.3998 - learning_rate: 0.0010\n",
      "Epoch 6/20\n",
      "\u001b[1m131/131\u001b[0m \u001b[32m━━━━━━━━━━━━━━━━━━━━\u001b[0m\u001b[37m\u001b[0m \u001b[1m42s\u001b[0m 318ms/step - accuracy: 0.8617 - loss: 0.4059 - val_accuracy: 0.8630 - val_loss: 0.4001 - learning_rate: 2.0000e-04\n",
      "Epoch 7/20\n",
      "\u001b[1m131/131\u001b[0m \u001b[32m━━━━━━━━━━━━━━━━━━━━\u001b[0m\u001b[37m\u001b[0m \u001b[1m38s\u001b[0m 288ms/step - accuracy: 0.8647 - loss: 0.3979 - val_accuracy: 0.8630 - val_loss: 0.3998 - learning_rate: 2.0000e-04\n",
      "Epoch 8/20\n",
      "\u001b[1m131/131\u001b[0m \u001b[32m━━━━━━━━━━━━━━━━━━━━\u001b[0m\u001b[37m\u001b[0m \u001b[1m40s\u001b[0m 306ms/step - accuracy: 0.8669 - loss: 0.3955 - val_accuracy: 0.8630 - val_loss: 0.3996 - learning_rate: 1.0000e-04\n",
      "Epoch 9/20\n",
      "\u001b[1m131/131\u001b[0m \u001b[32m━━━━━━━━━━━━━━━━━━━━\u001b[0m\u001b[37m\u001b[0m \u001b[1m41s\u001b[0m 310ms/step - accuracy: 0.8746 - loss: 0.3801 - val_accuracy: 0.8630 - val_loss: 0.3996 - learning_rate: 1.0000e-04\n",
      "Epoch 10/20\n",
      "\u001b[1m131/131\u001b[0m \u001b[32m━━━━━━━━━━━━━━━━━━━━\u001b[0m\u001b[37m\u001b[0m \u001b[1m41s\u001b[0m 312ms/step - accuracy: 0.8697 - loss: 0.3883 - val_accuracy: 0.8630 - val_loss: 0.3996 - learning_rate: 1.0000e-04\n",
      "Epoch 11/20\n",
      "\u001b[1m131/131\u001b[0m \u001b[32m━━━━━━━━━━━━━━━━━━━━\u001b[0m\u001b[37m\u001b[0m \u001b[1m41s\u001b[0m 312ms/step - accuracy: 0.8734 - loss: 0.3810 - val_accuracy: 0.8630 - val_loss: 0.3996 - learning_rate: 1.0000e-04\n",
      "Epoch 12/20\n",
      "\u001b[1m131/131\u001b[0m \u001b[32m━━━━━━━━━━━━━━━━━━━━\u001b[0m\u001b[37m\u001b[0m \u001b[1m41s\u001b[0m 316ms/step - accuracy: 0.8699 - loss: 0.3889 - val_accuracy: 0.8630 - val_loss: 0.3995 - learning_rate: 1.0000e-04\n",
      "Epoch 13/20\n",
      "\u001b[1m131/131\u001b[0m \u001b[32m━━━━━━━━━━━━━━━━━━━━\u001b[0m\u001b[37m\u001b[0m \u001b[1m41s\u001b[0m 314ms/step - accuracy: 0.8669 - loss: 0.3944 - val_accuracy: 0.8630 - val_loss: 0.3996 - learning_rate: 1.0000e-04\n",
      "Epoch 14/20\n",
      "\u001b[1m131/131\u001b[0m \u001b[32m━━━━━━━━━━━━━━━━━━━━\u001b[0m\u001b[37m\u001b[0m \u001b[1m41s\u001b[0m 310ms/step - accuracy: 0.8605 - loss: 0.4082 - val_accuracy: 0.8630 - val_loss: 0.3996 - learning_rate: 1.0000e-04\n",
      "Epoch 15/20\n",
      "\u001b[1m131/131\u001b[0m \u001b[32m━━━━━━━━━━━━━━━━━━━━\u001b[0m\u001b[37m\u001b[0m \u001b[1m42s\u001b[0m 320ms/step - accuracy: 0.8726 - loss: 0.3859 - val_accuracy: 0.8630 - val_loss: 0.3995 - learning_rate: 1.0000e-04\n",
      "Epoch 16/20\n",
      "\u001b[1m131/131\u001b[0m \u001b[32m━━━━━━━━━━━━━━━━━━━━\u001b[0m\u001b[37m\u001b[0m \u001b[1m43s\u001b[0m 327ms/step - accuracy: 0.8670 - loss: 0.3945 - val_accuracy: 0.8630 - val_loss: 0.3995 - learning_rate: 1.0000e-04\n",
      "Epoch 17/20\n",
      "\u001b[1m131/131\u001b[0m \u001b[32m━━━━━━━━━━━━━━━━━━━━\u001b[0m\u001b[37m\u001b[0m \u001b[1m43s\u001b[0m 328ms/step - accuracy: 0.8694 - loss: 0.3906 - val_accuracy: 0.8630 - val_loss: 0.3995 - learning_rate: 1.0000e-04\n",
      "Epoch 18/20\n",
      "\u001b[1m131/131\u001b[0m \u001b[32m━━━━━━━━━━━━━━━━━━━━\u001b[0m\u001b[37m\u001b[0m \u001b[1m42s\u001b[0m 322ms/step - accuracy: 0.8637 - loss: 0.4013 - val_accuracy: 0.8630 - val_loss: 0.3997 - learning_rate: 1.0000e-04\n",
      "Epoch 19/20\n",
      "\u001b[1m131/131\u001b[0m \u001b[32m━━━━━━━━━━━━━━━━━━━━\u001b[0m\u001b[37m\u001b[0m \u001b[1m42s\u001b[0m 320ms/step - accuracy: 0.8706 - loss: 0.3879 - val_accuracy: 0.8630 - val_loss: 0.3995 - learning_rate: 1.0000e-04\n",
      "Epoch 20/20\n",
      "\u001b[1m131/131\u001b[0m \u001b[32m━━━━━━━━━━━━━━━━━━━━\u001b[0m\u001b[37m\u001b[0m \u001b[1m42s\u001b[0m 324ms/step - accuracy: 0.8735 - loss: 0.3814 - val_accuracy: 0.8630 - val_loss: 0.3995 - learning_rate: 1.0000e-04\n"
     ]
    }
   ],
   "source": [
    "history = model.fit(X_train, y_train, validation_data=(X_test, y_test), \n",
    "                    epochs=20, batch_size=32, \n",
    "                    callbacks=[early_stopping, reduce_lr])"
   ]
  },
  {
   "cell_type": "code",
   "execution_count": 38,
   "metadata": {},
   "outputs": [],
   "source": [
    "batch_size = 128\n",
    "\n",
    "embed = tf.keras.Sequential([\n",
    "    layers.Embedding(input_dim = n_tokens, output_dim = 30, mask_zero=True)\n",
    "])\n",
    "\n",
    "rnn = tf.keras.Sequential([\n",
    "    layers.GRU(128),\n",
    "    layers.Dense(1, activation=\"sigmoid\")\n",
    "])\n",
    "\n",
    "model = tf.keras.Sequential([embed,rnn])\n",
    "\n",
    "optimizer = tf.keras.optimizers.Nadam(learning_rate=0.01)\n",
    "model.compile(loss=\"binary_crossentropy\", optimizer=optimizer, metrics=['accuracy'])\n",
    "\n",
    "epochs = 10\n",
    "lr = tf.keras.callbacks.ReduceLROnPlateau(monitor='val_loss', factor=0.5, patience=3)\n",
    "es = tf.keras.callbacks.EarlyStopping(patience=5, monitor='val_loss', restore_best_weights=True)\n",
    "\n",
    "\n"
   ]
  },
  {
   "cell_type": "code",
   "execution_count": 39,
   "metadata": {},
   "outputs": [
    {
     "name": "stdout",
     "output_type": "stream",
     "text": [
      "Epoch 1/10\n"
     ]
    },
    {
     "name": "stderr",
     "output_type": "stream",
     "text": [
      "C:\\Users\\fisch\\AppData\\Roaming\\Python\\Python311\\site-packages\\keras\\src\\layers\\layer.py:877: UserWarning: Layer 'sequential_2' (of type Sequential) was passed an input with a mask attached to it. However, this layer does not support masking and will therefore destroy the mask information. Downstream layers will not see the mask.\n",
      "  warnings.warn(\n"
     ]
    },
    {
     "name": "stdout",
     "output_type": "stream",
     "text": [
      "\u001b[1m131/131\u001b[0m \u001b[32m━━━━━━━━━━━━━━━━━━━━\u001b[0m\u001b[37m\u001b[0m \u001b[1m125s\u001b[0m 906ms/step - accuracy: 0.9130 - loss: 0.2428 - val_accuracy: 0.9735 - val_loss: 0.1011 - learning_rate: 0.0100\n",
      "Epoch 2/10\n",
      "\u001b[1m131/131\u001b[0m \u001b[32m━━━━━━━━━━━━━━━━━━━━\u001b[0m\u001b[37m\u001b[0m \u001b[1m110s\u001b[0m 828ms/step - accuracy: 0.9681 - loss: 0.1256 - val_accuracy: 0.9749 - val_loss: 0.0840 - learning_rate: 0.0100\n",
      "Epoch 3/10\n",
      "\u001b[1m131/131\u001b[0m \u001b[32m━━━━━━━━━━━━━━━━━━━━\u001b[0m\u001b[37m\u001b[0m \u001b[1m134s\u001b[0m 1s/step - accuracy: 0.9770 - loss: 0.0820 - val_accuracy: 0.9806 - val_loss: 0.0735 - learning_rate: 0.0100\n",
      "Epoch 4/10\n",
      "\u001b[1m131/131\u001b[0m \u001b[32m━━━━━━━━━━━━━━━━━━━━\u001b[0m\u001b[37m\u001b[0m \u001b[1m93s\u001b[0m 711ms/step - accuracy: 0.9810 - loss: 0.0723 - val_accuracy: 0.9778 - val_loss: 0.0694 - learning_rate: 0.0100\n",
      "Epoch 5/10\n",
      "\u001b[1m131/131\u001b[0m \u001b[32m━━━━━━━━━━━━━━━━━━━━\u001b[0m\u001b[37m\u001b[0m \u001b[1m93s\u001b[0m 710ms/step - accuracy: 0.9816 - loss: 0.0653 - val_accuracy: 0.9821 - val_loss: 0.0710 - learning_rate: 0.0100\n",
      "Epoch 6/10\n",
      "\u001b[1m131/131\u001b[0m \u001b[32m━━━━━━━━━━━━━━━━━━━━\u001b[0m\u001b[37m\u001b[0m \u001b[1m93s\u001b[0m 711ms/step - accuracy: 0.9798 - loss: 0.0722 - val_accuracy: 0.9799 - val_loss: 0.0772 - learning_rate: 0.0100\n",
      "Epoch 7/10\n",
      "\u001b[1m131/131\u001b[0m \u001b[32m━━━━━━━━━━━━━━━━━━━━\u001b[0m\u001b[37m\u001b[0m \u001b[1m89s\u001b[0m 681ms/step - accuracy: 0.9827 - loss: 0.0580 - val_accuracy: 0.9835 - val_loss: 0.0595 - learning_rate: 0.0100\n",
      "Epoch 8/10\n",
      "\u001b[1m131/131\u001b[0m \u001b[32m━━━━━━━━━━━━━━━━━━━━\u001b[0m\u001b[37m\u001b[0m \u001b[1m92s\u001b[0m 700ms/step - accuracy: 0.9869 - loss: 0.0521 - val_accuracy: 0.9806 - val_loss: 0.0705 - learning_rate: 0.0100\n",
      "Epoch 9/10\n",
      "\u001b[1m131/131\u001b[0m \u001b[32m━━━━━━━━━━━━━━━━━━━━\u001b[0m\u001b[37m\u001b[0m \u001b[1m109s\u001b[0m 831ms/step - accuracy: 0.9889 - loss: 0.0416 - val_accuracy: 0.9792 - val_loss: 0.0650 - learning_rate: 0.0100\n",
      "Epoch 10/10\n",
      "\u001b[1m131/131\u001b[0m \u001b[32m━━━━━━━━━━━━━━━━━━━━\u001b[0m\u001b[37m\u001b[0m \u001b[1m183s\u001b[0m 1s/step - accuracy: 0.9902 - loss: 0.0409 - val_accuracy: 0.9785 - val_loss: 0.0804 - learning_rate: 0.0100\n"
     ]
    }
   ],
   "source": [
    "history = model.fit(X_train, y_train, validation_data=(X_test, y_test), \n",
    "                    epochs=epochs, batch_size=32, \n",
    "                    callbacks=[lr, es])"
   ]
  },
  {
   "cell_type": "code",
   "execution_count": null,
   "metadata": {},
   "outputs": [
    {
     "name": "stdout",
     "output_type": "stream",
     "text": [
      "(1, 910)\n",
      "\u001b[1m1/1\u001b[0m \u001b[32m━━━━━━━━━━━━━━━━━━━━\u001b[0m\u001b[37m\u001b[0m \u001b[1m0s\u001b[0m 42ms/step\n",
      "[[0.8903811]]\n",
      "(1, 910)\n",
      "\u001b[1m1/1\u001b[0m \u001b[32m━━━━━━━━━━━━━━━━━━━━\u001b[0m\u001b[37m\u001b[0m \u001b[1m0s\u001b[0m 46ms/step\n",
      "[[0.00147145]]\n"
     ]
    },
    {
     "data": {
      "text/plain": [
       "('Spam', 'Not Spam')"
      ]
     },
     "execution_count": 132,
     "metadata": {},
     "output_type": "execute_result"
    }
   ],
   "source": [
    "def predict(text):\n",
    "    text_vector = text_vec_layer(pd.DataFrame([text]))\n",
    "    print(np.shape(text_vector))\n",
    "    prediction = model.predict(text_vector)\n",
    "    print(prediction)\n",
    "    if prediction[0] > 0.5:\n",
    "        return \"Spam\"\n",
    "    else:\n",
    "        return \"Not Spam\"\n",
    "\n",
    "predict('Free entry, Text FA to 87121 to receive entry question(std txt rate)'), predict('I miss you')\n",
    "    "
   ]
  },
  {
   "cell_type": "code",
   "execution_count": 84,
   "metadata": {},
   "outputs": [
    {
     "name": "stdout",
     "output_type": "stream",
     "text": [
      "\u001b[1m44/44\u001b[0m \u001b[32m━━━━━━━━━━━━━━━━━━━━\u001b[0m\u001b[37m\u001b[0m \u001b[1m4s\u001b[0m 80ms/step\n",
      "\u001b[1m44/44\u001b[0m \u001b[32m━━━━━━━━━━━━━━━━━━━━\u001b[0m\u001b[37m\u001b[0m \u001b[1m4s\u001b[0m 80ms/step - accuracy: 0.9867 - loss: 0.0497\n",
      "Test Accuracy: 0.9835007190704346\n"
     ]
    }
   ],
   "source": [
    "predictions = model.predict(X_test)\n",
    "test_loss, test_acc = model.evaluate(X_test, y_test)\n",
    "print(f'Test Accuracy: {test_acc}')"
   ]
  },
  {
   "cell_type": "code",
   "execution_count": 112,
   "metadata": {},
   "outputs": [
    {
     "data": {
      "text/plain": [
       "array([\"Free entry in 2 a wkly comp to win FA Cup final tkts 21st May 2005. Text FA to 87121 to receive entry question(std txt rate)T&C's apply 08452810075over18's\"],\n",
       "      dtype=object)"
      ]
     },
     "execution_count": 112,
     "metadata": {},
     "output_type": "execute_result"
    }
   ],
   "source": [
    "np.array(X)[2]"
   ]
  }
 ],
 "metadata": {
  "kernelspec": {
   "display_name": "base",
   "language": "python",
   "name": "python3"
  },
  "language_info": {
   "codemirror_mode": {
    "name": "ipython",
    "version": 3
   },
   "file_extension": ".py",
   "mimetype": "text/x-python",
   "name": "python",
   "nbconvert_exporter": "python",
   "pygments_lexer": "ipython3",
   "version": "3.11.7"
  }
 },
 "nbformat": 4,
 "nbformat_minor": 2
}
