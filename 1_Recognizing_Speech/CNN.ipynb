{
 "cells": [
  {
   "cell_type": "code",
   "execution_count": 1,
   "id": "2b9635aa-9564-46ed-b2d7-86ef210cea72",
   "metadata": {},
   "outputs": [],
   "source": [
    "import tensorflow as tf\n",
    "import matplotlib.pyplot as plt"
   ]
  },
  {
   "cell_type": "code",
   "execution_count": 2,
   "id": "9ac2bbad-92bf-4df9-b3d1-5cdc52351871",
   "metadata": {},
   "outputs": [
    {
     "data": {
      "text/plain": [
       "(28, 28)"
      ]
     },
     "execution_count": 2,
     "metadata": {},
     "output_type": "execute_result"
    }
   ],
   "source": [
    "fmnist = tf.keras.datasets.fashion_mnist.load_data()\n",
    "(X_trainval, y_trainval), (X_test, y_test) = fmnist\n",
    "X_train, y_train = X_trainval[:-10000], y_trainval[:-10000]\n",
    "X_valid, y_valid = X_trainval[-10000:], y_trainval[-10000:]\n",
    "X_train, X_valid, X_test = X_train/255., X_valid/255., X_test/255.\n",
    "X_train[0].shape\n",
    "# X_train = X_train.reshape([-1, 28, 28, 1])\n",
    "# X_valid = X_valid.reshape([-1, 28, 28, 1])\n",
    "# X_test = X_test.reshape([-1, 28, 28, 1])"
   ]
  },
  {
   "cell_type": "code",
   "execution_count": null,
   "id": "87f9298b-ca1e-4c55-8d8e-b8cf8a6f3de3",
   "metadata": {},
   "outputs": [],
   "source": [
    "model = tf.keras.Sequential()\n",
    "model.add(tf.keras.layers.Input(X_train[0].shape))\n",
    "model.add(tf.keras.layers.Conv2D(32, (3,3), activation = \"relu\", kernel_initializer = \"he_normal\", padding = \"same\"))\n",
    "model.add(tf.keras.layers.Conv2D(32, (3,3), activation = \"relu\", kernel_initializer = \"he_normal\", padding = \"same\"))\n",
    "model.add(tf.keras.layers.MaxPooling2D(pool_size = (2,2)))\n",
    "model.add(tf.keras.layers.Conv2D(64, (3,3), activation = \"relu\", kernel_initializer = \"he_normal\", padding = \"same\"))\n",
    "model.add(tf.keras.layers.Conv2D(64, (3,3), activation = \"relu\", kernel_initializer = \"he_normal\", padding = \"same\"))\n",
    "model.add(tf.keras.layers.MaxPooling2D(pool_size = (2,2)))\n",
    "model.add(tf.keras.layers.Conv2D(128, (3,3), activation = \"relu\", kernel_initializer = \"he_normal\", padding = \"same\"))\n",
    "model.add(tf.keras.layers.Conv2D(128, (3,3), activation = \"relu\", kernel_initializer = \"he_normal\", padding = \"same\"))\n",
    "model.add(tf.keras.layers.MaxPooling2D(pool_size = (2,2)))\n",
    "model.add(tf.keras.layers.Flatten())\n",
    "model.add(tf.keras.layers.Dense(128, activation = \"relu\", kernel_initializer = \"he_normal\"))\n",
    "model.add(tf.keras.layers.Dense(10, activation = \"softmax\"))\n",
    "\n",
    "EarlyStoppingCB = tf.keras.callbacks.EarlyStopping(monitor = \"val_loss\", patience = 5, restore_best_weights = \"True\")\n",
    "LearningRateCB = tf.keras.callbacks.ReduceLROnPlateau(factor = 0.5, patience = 2)\n",
    "\n",
    "optimizer = tf.keras.optimizers.AdamW(learning_rate = 0.001, weight_decay = 0.002)\n",
    "model.compile(loss = \"sparse_categorical_crossentropy\", optimizer = optimizer, metrics = [\"accuracy\"])\n",
    "history = model.fit(X_train, y_train, epochs = 30, validation_data = (X_valid, y_valid), callbacks = [EarlyStoppingCB, LearningRateCB])"
   ]
  },
  {
   "cell_type": "code",
   "execution_count": null,
   "id": "9eaf3684-21bc-415d-b35e-c06b3534447c",
   "metadata": {},
   "outputs": [],
   "source": []
  }
 ],
 "metadata": {
  "kernelspec": {
   "display_name": "Python 3 (ipykernel)",
   "language": "python",
   "name": "python3"
  },
  "language_info": {
   "codemirror_mode": {
    "name": "ipython",
    "version": 3
   },
   "file_extension": ".py",
   "mimetype": "text/x-python",
   "name": "python",
   "nbconvert_exporter": "python",
   "pygments_lexer": "ipython3",
   "version": "3.11.7"
  }
 },
 "nbformat": 4,
 "nbformat_minor": 5
}
