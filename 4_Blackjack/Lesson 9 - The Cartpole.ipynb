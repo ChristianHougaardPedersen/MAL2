{
  "nbformat": 4,
  "nbformat_minor": 0,
  "metadata": {
    "colab": {
      "provenance": [],
      "machine_shape": "hm",
      "gpuType": "A100"
    },
    "kernelspec": {
      "name": "python3",
      "display_name": "Python 3"
    },
    "language_info": {
      "name": "python"
    },
    "accelerator": "GPU"
  },
  "cells": [
    {
      "cell_type": "code",
      "execution_count": null,
      "metadata": {
        "colab": {
          "base_uri": "https://localhost:8080/"
        },
        "id": "q_GGN1MlfUog",
        "outputId": "afb1058b-f7fc-4f21-a36a-184bdd5694ea"
      },
      "outputs": [
        {
          "output_type": "stream",
          "name": "stdout",
          "text": [
            "\u001b[?25l     \u001b[90m━━━━━━━━━━━━━━━━━━━━━━━━━━━━━━━━━━━━━━━━\u001b[0m \u001b[32m0.0/721.7 kB\u001b[0m \u001b[31m?\u001b[0m eta \u001b[36m-:--:--\u001b[0m\r\u001b[2K     \u001b[91m━━━━━━━━━━━━━━━━━━━━━━━━━━━━━━━━━━━━━━━\u001b[0m\u001b[91m╸\u001b[0m \u001b[32m716.8/721.7 kB\u001b[0m \u001b[31m21.4 MB/s\u001b[0m eta \u001b[36m0:00:01\u001b[0m\r\u001b[2K     \u001b[90m━━━━━━━━━━━━━━━━━━━━━━━━━━━━━━━━━━━━━━━━\u001b[0m \u001b[32m721.7/721.7 kB\u001b[0m \u001b[31m13.8 MB/s\u001b[0m eta \u001b[36m0:00:00\u001b[0m\n",
            "\u001b[?25h  Installing build dependencies ... \u001b[?25l\u001b[?25hdone\n",
            "  Getting requirements to build wheel ... \u001b[?25l\u001b[?25hdone\n",
            "  Preparing metadata (pyproject.toml) ... \u001b[?25l\u001b[?25hdone\n",
            "  Building wheel for gym (pyproject.toml) ... \u001b[?25l\u001b[?25hdone\n",
            "\u001b[31mERROR: pip's dependency resolver does not currently take into account all the packages that are installed. This behaviour is the source of the following dependency conflicts.\n",
            "dopamine-rl 4.0.9 requires gym<=0.25.2, but you have gym 0.26.2 which is incompatible.\u001b[0m\u001b[31m\n",
            "\u001b[0m\u001b[31mERROR: Invalid requirement: 'gym[classic_control,': Expected extra name after comma\n",
            "    gym[classic_control,\n",
            "                        ^\u001b[0m\u001b[31m\n",
            "\u001b[0m"
          ]
        }
      ],
      "source": [
        "%pip install -q -U gym\n",
        "%pip install -q -U gym[classic_control, box2d, atari, accept-rom-license]"
      ]
    },
    {
      "cell_type": "code",
      "source": [
        "import gym\n",
        "import matplotlib.pyplot as plt\n",
        "import matplotlib.animation\n",
        "import numpy as np\n",
        "import tensorflow as tf\n",
        "from tensorflow.keras import Sequential\n",
        "from tensorflow.keras.layers import Dense, Input\n",
        "from IPython.display import HTML\n",
        "from collections import deque\n",
        "from tensorflow.keras.optimizers import Nadam\n",
        "from tensorflow.keras.losses import MSE"
      ],
      "metadata": {
        "id": "4nT2MAR1fg2c"
      },
      "execution_count": null,
      "outputs": []
    },
    {
      "cell_type": "code",
      "source": [
        "env = gym.make(\"CartPole-v1\", render_mode = \"rgb_array\")\n",
        "obs, info = env.reset(seed=42)\n",
        "print(obs) #horizontal position, cart velocity, pole angle, pole angular velocity\n",
        "img = env.render() #creates an image\n",
        "plt.imshow(img)"
      ],
      "metadata": {
        "colab": {
          "base_uri": "https://localhost:8080/",
          "height": 433
        },
        "id": "RU8kVkfTfkj4",
        "outputId": "2ea8d192-e5a3-48e0-eb56-08a768c5d670"
      },
      "execution_count": null,
      "outputs": [
        {
          "output_type": "stream",
          "name": "stdout",
          "text": [
            "[ 0.0273956  -0.00611216  0.03585979  0.0197368 ]\n"
          ]
        },
        {
          "output_type": "execute_result",
          "data": {
            "text/plain": [
              "<matplotlib.image.AxesImage at 0x780bd64a4460>"
            ]
          },
          "metadata": {},
          "execution_count": 3
        },
        {
          "output_type": "display_data",
          "data": {
            "text/plain": [
              "<Figure size 640x480 with 1 Axes>"
            ],
            "image/png": "[encoded data removed]"
          },
          "metadata": {}
        }
      ]
    },
    {
      "cell_type": "code",
      "source": [
        "env.action_space #2 possible actions"
      ],
      "metadata": {
        "colab": {
          "base_uri": "https://localhost:8080/"
        },
        "id": "NmEXruhzfl6I",
        "outputId": "fc2716d9-e509-4ebe-a768-0def90485be8"
      },
      "execution_count": null,
      "outputs": [
        {
          "output_type": "execute_result",
          "data": {
            "text/plain": [
              "Discrete(2)"
            ]
          },
          "metadata": {},
          "execution_count": 4
        }
      ]
    },
    {
      "cell_type": "code",
      "source": [
        "action = 1 #accelerate right as pole is tilting to the right\n",
        "obs, reward, done, truncated, info = env.step(action)"
      ],
      "metadata": {
        "colab": {
          "base_uri": "https://localhost:8080/"
        },
        "id": "vlft-EzIfnN1",
        "outputId": "2d25d62c-2386-4558-bcc2-f2c7f615b0ce"
      },
      "execution_count": null,
      "outputs": [
        {
          "output_type": "stream",
          "name": "stderr",
          "text": [
            "/usr/local/lib/python3.10/dist-packages/gym/utils/passive_env_checker.py:233: DeprecationWarning: `np.bool8` is a deprecated alias for `np.bool_`.  (Deprecated NumPy 1.24)\n",
            "  if not isinstance(terminated, (bool, np.bool8)):\n"
          ]
        }
      ]
    },
    {
      "cell_type": "code",
      "source": [
        "print(obs) #new observation/state of your system\n",
        "print(reward) #+1 everytime - maximize by keeping it upright for longest possible time\n",
        "print(done) #if tilted too much to one side (more than 12 degrees) or cart too much to the side\n",
        "print(truncated) #if interrupted early\n",
        "print(info) #extra version"
      ],
      "metadata": {
        "colab": {
          "base_uri": "https://localhost:8080/"
        },
        "id": "NQ0zIK_Yfni6",
        "outputId": "2f0f25c2-3bad-436b-9718-befea407e363"
      },
      "execution_count": null,
      "outputs": [
        {
          "output_type": "stream",
          "name": "stdout",
          "text": [
            "[ 0.02727336  0.18847767  0.03625453 -0.26141977]\n",
            "1.0\n",
            "False\n",
            "False\n",
            "{}\n"
          ]
        }
      ]
    },
    {
      "cell_type": "code",
      "source": [
        "def basic_policy(obs): #goes to the left when leaning left and similar for right\n",
        "    angle = obs[2]\n",
        "    if angle < 0:\n",
        "        return 0\n",
        "    else:\n",
        "        return 1"
      ],
      "metadata": {
        "id": "OtrsiZx9foVj"
      },
      "execution_count": null,
      "outputs": []
    },
    {
      "cell_type": "code",
      "source": [
        "totals = []\n",
        "for episode in range(500):\n",
        "    episode_rewards = 0\n",
        "    obs, info = env.reset(seed=episode) #different seeds everytime\n",
        "    for step in range(200):\n",
        "        action = basic_policy(obs)\n",
        "        obs, reward, done, truncated, info = env.step(action)\n",
        "        episode_rewards += reward\n",
        "        if done or truncated:\n",
        "            break\n",
        "    totals.append(episode_rewards)"
      ],
      "metadata": {
        "id": "A8KlJw6Qfpp9"
      },
      "execution_count": null,
      "outputs": []
    },
    {
      "cell_type": "code",
      "source": [
        "np.mean(totals), min(totals), max(totals) #never managed to do better than 63 steps with this basic policy"
      ],
      "metadata": {
        "colab": {
          "base_uri": "https://localhost:8080/"
        },
        "id": "h3C2cfsmfqv6",
        "outputId": "64aa7c2a-2179-4a06-c8f9-12ca0052fb55"
      },
      "execution_count": null,
      "outputs": [
        {
          "output_type": "execute_result",
          "data": {
            "text/plain": [
              "(41.698, 24.0, 63.0)"
            ]
          },
          "metadata": {},
          "execution_count": 9
        }
      ]
    },
    {
      "cell_type": "code",
      "source": [
        "def update_scene(num, frames, patch): #this box makes a nice little video\n",
        "    patch.set_data(frames[num])\n",
        "    return patch,\n",
        "\n",
        "def plot_animation(frames, repeat=False, interval=40):\n",
        "    fig = plt.figure()\n",
        "    patch = plt.imshow(frames[0])\n",
        "    plt.axis('off')\n",
        "    anim = matplotlib.animation.FuncAnimation(\n",
        "        fig, update_scene, fargs=(frames, patch),\n",
        "        frames=len(frames), repeat=repeat, interval=interval)\n",
        "    plt.close()\n",
        "    return anim\n",
        "\n",
        "def show_one_episode(policy, n_max_steps=200, seed=333):\n",
        "    frames = []\n",
        "    env = gym.make(\"CartPole-v1\", render_mode=\"rgb_array\")\n",
        "    np.random.seed(seed)\n",
        "    obs, info = env.reset(seed=seed)\n",
        "    for step in range(n_max_steps):\n",
        "        frames.append(env.render())\n",
        "        action = policy(obs)\n",
        "        obs, reward, done, truncated, info = env.step(action)\n",
        "        if done or truncated:\n",
        "            break\n",
        "    env.close()\n",
        "    return plot_animation(frames)\n",
        "\n",
        "anim = show_one_episode(basic_policy)\n",
        "HTML(anim.to_html5_video())"
      ],
      "metadata": {
        "colab": {
          "base_uri": "https://localhost:8080/",
          "height": 501
        },
        "id": "ypMwMdsxfrc7",
        "outputId": "063134a1-91d3-4ee2-f8da-709e77db9e3e"
      },
      "execution_count": null,
      "outputs": [
        {
          "output_type": "execute_result",
          "data": {
            "text/plain": [
              "<IPython.core.display.HTML object>"
            ],
            "text/html": [
              "<video width=\"640\" height=\"480\" controls autoplay>\n",
              "  <source type=\"video/mp4\" src=\"data:video/mp4;base64,AAAAIGZ0eXBNNFYgAAACAE00ViBpc29taXNvMmF2YzEAAAAIZnJlZQAAHmptZGF0AAACrwYF//+r\n",
              "3EXpvebZSLeWLNgg2SPu73gyNjQgLSBjb3JlIDE2MyByMzA2MCA1ZGI2YWE2IC0gSC4yNjQvTVBF\n",
              "Ry00IEFWQyBjb2RlYyAtIENvcHlsZWZ0IDIwMDMtMjAyMSAtIGh0dHA6Ly93d3cudmlkZW9sYW4u\n",
              "b3JnL3gyNjQuaHRtbCAtIG9wdGlvbnM6IGNhYmFjPTEgcmVmPTMgZGVibG9jaz0xOjA6MCBhbmFs\n",
              "eXNlPTB4MzoweDExMyBtZT1oZXggc3VibWU9NyBwc3k9MSBwc3lfcmQ9MS4wMDowLjAwIG1peGVk\n",
              "X3JlZj0xIG1lX3JhbmdlPTE2IGNocm9tYV9tZT0xIHRyZWxsaXM9MSA4eDhkY3Q9MSBjcW09MCBk\n",
              "ZWFkem9uZT0yMSwxMSBmYXN0X3Bza2lwPTEgY2hyb21hX3FwX29mZnNldD0tMiB0aHJlYWRzPTE1\n",
              "IGxvb2thaGVhZF90aHJlYWRzPTIgc2xpY2VkX3RocmVhZHM9MCBucj0wIGRlY2ltYXRlPTEgaW50\n",
              "ZXJsYWNlZD0wIGJsdXJheV9jb21wYXQ9MCBjb25zdHJhaW5lZF9pbnRyYT0wIGJmcmFtZXM9MyBi\n",
              "X3B5cmFtaWQ9MiBiX2FkYXB0PTEgYl9iaWFzPTAgZGlyZWN0PTEgd2VpZ2h0Yj0xIG9wZW5fZ29w\n",
              "PTAgd2VpZ2h0cD0yIGtleWludD0yNTAga2V5aW50X21pbj0yNSBzY2VuZWN1dD00MCBpbnRyYV9y\n",
              "ZWZyZXNoPTAgcmNfbG9va2FoZWFkPTQwIHJjPWNyZiBtYnRyZWU9MSBjcmY9MjMuMCBxY29tcD0w\n",
              "LjYwIHFwbWluPTAgcXBtYXg9NjkgcXBzdGVwPTQgaXBfcmF0aW89MS40MCBhcT0xOjEuMDAAgAAA\n",
              "AX1liIQAN//+9vD+BTY7mNCXEc3onTMfvxW4ujQ3vc4AAAMAAAMAAAMBuaWF/3Z384ggAAADAHbA\n",
              "FQCABGw2QuQ1Q8BQx1inEJmB4eoO5SAk7nugmuPCWiPbPrP+JbvukZBpmZNZyc5gIoXJ+KBTNrLd\n",
              "TgrSOCjDysa8vMIFTe0+7IkEhvjt9IJf0BXPwIM4JZAL0BhngjljdBCu9CRBrlOiV5x/JByp6A5k\n",
              "UCIjUc/jyGLru0+l6vQwfa/3bYLL7Cd3707E0i1eEX9NucsKCQVIUWLokVyI3+ECzhsRw3eMYiIG\n",
              "vec1iFk4AREI+eMpuacdaBiOb7RntsMT73gWVbtqbN74t+YerDee4gNyYQtPp6oF+r5pPaqxKWFj\n",
              "wTUJL3KEX/1Dt5AuYMgugjvnQ2BA3GBmZKzGkoFcRDI7+wJVFxUwLvFJcvTpwlFL7lGtUPfFtiu5\n",
              "reiSoKr0iTC+gABciAAAAwAAAwAAAwAAAwAAAwAAAwAAAwAAAwAADPkAAAC/QZokbEL//oywAAAD\n",
              "AKmAaMALAyLdgC7AcFzwS78OkHoS8NejIMDcmbLRzmZd1tkCAHMOKuf547UXsCW9rmaY0nE6/KSZ\n",
              "eoSsRoMmW9iDnCI0Z2KS2bwuo2QAwzX6D51745/JAt3/83/z6EcW5qsBEVKA0JugdJfA4QJ6YSNJ\n",
              "/+0TN2yMM+/yKIc1fxyos0WJohkaFQvxt6K0btbSkh5juO5MfUFFpom/4/9zrY6/uXb+aUU2c7aG\n",
              "20b8TxCuDHgAAAAfQZ5CeIX/AAADABnGwVtosTzZPcycAZio1YWYxRAf4QAAACEBnmF0Qr8AAAMA\n",
              "YepbCLsdxvnt+/SvcfsLr69eD3zAO6AAAAAoAZ5jakK/AAADACK67l4zNwXhjrMoSSNsokz6Ign0\n",
              "qU/61baH3/AP8QAAAGpBmmhJqEFomUwIX//+jLAAAAMAqiGYK3QnLLo3XCIAVu6EFwyUUFZE48yW\n",
              "9q0i7yj8YjkIzI+wajN/uWGEYA9JoBQ7ZBViubjLdPcr7zt0dq4wbxhH9+ivuvt/w2YLKiqZm0Hz\n",
              "C8wXrRn1AAAASkGehkURLC//AAADAEdLOwgx8C98t4AWsOZLYMpoQfkyh6OO6eOJ8aSSrMdzX9++\n",
              "madSh5LNVEFuUUEEW1jPfKTvtnh7FuSN3dE7AAAALAGepXRCvwAAAwBh8sMT5y3rJFf65BAr3O6w\n",
              "Bo+c7cira7YH32CHn3AFWidhAAAALgGep2pCvwAAAwBiB/wvAJrBSRg1kH08DBAO1tlEJFJAlwk/\n",
              "P2kecP75KeUrAf4AAAC9QZqsSahBbJlMCF///oywAAADAdHgVrcBQNy9UVfxQ9kyzPOJbM/fr9nd\n",
              "kiGLcMhutClYZ4tbvB6+RCIE23uWFv44NjhUuGC/5hL9TOq4uINoeqrtiDhCyurt+TT1wmV+NE9s\n",
              "Jqk+bpqcGHp9oMY+KutqOh2+Njk6izx0sO5JHE3NGJvjeRUMykVlf67Hc+TPPfZp43vwKj0nNSs1\n",
              "AoAoQSgv/xOGptzrtzVKGIWGBkLObGIdYwjNX7R5bkDAAAAAR0GeykUVLC//AAADAEZ8HtP47Hb4\n",
              "rWaQBt9L3sBtnSoLldTMXO6MF+pYxsS2LiuUnTKoQyVgBPB942YWgUc1kFJIJXfBoD/BAAAALQGe\n",
              "6XRCvwAAAwBiI4AJKZ25qRHtTOuf5O0EVlchMYABlU5WYXVCQytvzRKMWAAAAEgBnutqQr8AAAMA\n",
              "YhqoJi49Mvz2eRITKe/mGJ04eUNlgrZsE7MGlD69cNAmk0ZxgAHtvEPYbwLqcTajcMn9Yg68sC6E\n",
              "liaUXcAAAADnQZrwSahBbJlMCF///oywAAADAdHrQXuBiYxuhNEc4xrxk94MTFOMbKIERfDt0MYb\n",
              "TE9pb94AdjsbI6VOgVEOdMAEIrCa4paUzJB/aSmPADaPENSnEBdWbff3LF9I716EiiI/030Yfchb\n",
              "dhaYGKlmNZsBk3UgzGjYyCAnOcE9enck8BqT3c3o9qulKY+Iuoelnd/dVt9Iw935xF78YklObTtD\n",
              "PCcwLfFhGoF0ZNyaRFcpc48NZPvs9Qm2YbCcVIQmszndlLQynPMiIHfzeSCFXTDUP4PvMAN4xpiF\n",
              "VjXlpcmEwGXCioRXAAAAX0GfDkUVLC//AAADAEdk+AdQmE6drPUMh9vYTivFr2g6D+MpD+vpGcno\n",
              "5GpAAOcMAJ7a40kFf31nq+Oy9Yr6InHgG0uV6aaJxJeIf/MYgbW0EnBbHfd3ArACEJIHwDuhAAAA\n",
              "QQGfLXRCvwAAAwBh/3XSpgam5HnIAP27bikAMX1h/Hjx7e72ez7awGxRB/AbFS2IjDwezQAcjYpI\n",
              "FeJuFk/dQD/BAAAAKQGfL2pCvwAAAwBiB/wtsc1MYyj2bO9ozgeeNj5DmiTqZStMM4xz6K+AAAAA\n",
              "nkGbNEmoQWyZTAhf//6MsAAAAwCqJjqq6fJPaL/ppil5i5JnfAA90rhbmYJl1E3V2Rsli+IYIpLj\n",
              "geSTCac3HE7/3r7Byaz0UhLqv7iDtT/myCGcCCAXlFGwia44sTkCLTixS3tQo/uzT+O045Jun76j\n",
              "FnmOnEZC64vev/BRtgil1VO3ZwLIDqSmFm5X2XC++Sy5I0TFOBaA+mOt/dXgAAAAPEGfUkUVLC//\n",
              "AAADAEdlL4ZdAxBQCIVVOfZQVynhY5Zd2YefmL1Sli9IgM2UZ8oLaxA9htz3VeneKx2FDQAAACYB\n",
              "n3F0Qr8AAAMAYiOACSszpkBVWweWWbiIlY85RiM2JVakbWYwIAAAAEQBn3NqQr8AAAMAYgNAD0DL\n",
              "uvK+WZxoBQ3xUW3ZegXIvuyDmihg/YqLIgAIuU/EUqhvwIBK72FEtSA+efVvORIEY0MBVQAAARNB\n",
              "m3hJqEFsmUwIX//+jLAAAAMB0tQXhWAfk20ZZu4DV5J/WjAWkdTYDa81YGcktuEn/aV8D2F8Zs0D\n",
              "/nNkGniXKNsg8tDO4XRjVNIXbaqa4f51jxnWBnue+bXd0uHa+MTX/mOaRiDSu56mZqDc+0QGZ5tl\n",
              "1IlN6SSDL1VDUyt7L14pEgwnmXFlRAvoKzdi+46xGpy37LI6YZSVqggRImMG1+Uwbvsc8nVx2uuo\n",
              "m3f+qJVwyBUZX67V60UwqlIF98X9qvve3UfKgRRiX551TAGmokoe/UWseYS4XKRDvKCc5PZxZbWn\n",
              "sP1Wvty/wZUL73jPZL493qx/6PjqNGjT07nyVZd+iPa++OHzz1tfBA+0PC+I3wAAAGZBn5ZFFSwv\n",
              "/wAAAwBHZTAKwM/VWD1vAzwkAc5WcatabsWBqmNo9MRkACKGzbPn9A5rmeW169wGAIg4vKrcWH3Y\n",
              "f5s3e3UHa/WvFCwgVqWBpHWA/AqBr/qduXq+dtMAvCn4yuxSMWAAAABDAZ+1dEK/AAADAGIp7v12\n",
              "D8fL1D6eJtxN4DaS2wEjn0Zw2BNLUCBYCqzim6hMdFt4PCbaWqAROwB5IHKfp0H3K50HdQAAAEMB\n",
              "n7dqQr8AAAMAYh0MvCjOuJlFuQS1nqkS2bTZmkIH/Wgw04fjsJZqfFmwFcUgAHDb3F1Qp8bX4i7p\n",
              "+1Q4GDJJLGLBAAABDEGbvEmoQWyZTAhf//6MsAAAAwHT9iSjdwE8FlK1+Ml0QN+ko55j/jnoZY/T\n",
              "ioVwc1tgf8kxALo3mwjP9pRaW5Lyr8AFA0mzQ9Wk8NCMx4PN9slZV4DdHAqC3WgqSRxk0CufK4cz\n",
              "v2+pmwY4C+HESOwN8va0nL8RppQjKLemUjK5q7oJ8gut8EE7JNtdWevD0UUQRFOwq2LwqliTMWa5\n",
              "zWYvmyEqDbj6w7pldh4rea5+mRxX5/MYbM6IfBuF3zTmiS2TOnXDAFiS2mi+W6Cy/FfcjWvfRBu/\n",
              "iwwLZGseRrXYG5Vr1bP1qlpMhSZQ6odI7dqkJjAxoiY+YK5aHZT5WNAqVWgn9sHHiL99gnYAAABl\n",
              "QZ/aRRUsL/8AAAMAR1q9C4yZpGuzNxGS+q7D5/FX3Us2f5Pyouo0ehxBcALQNyHfILX9w2InRMtL\n",
              "IR+Oh96QEIQFHDOKL2IHxNv7M+8S9oI2TfKSXe4Yz0bi1lVyS3fbY1pLiVkAAABAAZ/5dEK/AAAD\n",
              "AGH/ddB7kM5yN6Jw4xZSILoB56ZuaptEw+4OwzLBuINxYKt/q0AIOadImyJUVibtDZUR/WMLKAAA\n",
              "AEQBn/tqQr8AAAMAYee8PHa/RXtXRjuhXgDLyHjnxaXe2u3sUw3Sm0QhABS7Bh4KPvkICMKSWx+2\n",
              "naUXMBfMcUalBHDUgQAAAIdBm+BJqEFsmUwIX//+jLAAAAMB0fEGbU/KyHuoGa1cnFCIdgY7gAOb\n",
              "NzScs/+6aclR5Rlls4GrqbiowWe1EjV81YXzIx1kn7aYuyGWz9nrWzt7egUQQL8Jdqvpy8Ee/XpB\n",
              "vUMgowZWR6NrWKFs+isM6+JJLpP/KXr+Ei2SHakcKHTewV1NZ4EAAABGQZ4eRRUsL/8AAAMAR3OO\n",
              "pW32SQ1f6/zxU3Obh/8psq2ZCoOOHlI3RpICEAKyVWlJ4xR+x5/aWYLXpohjJm8J2ZfcjPwPSAAA\n",
              "ACkBnj10Qr8AAAMADJWb1srEU8fX2FQ90nwS9sZDom0bTOzNju20hQ8N6AAAAB8Bnj9qQr8AAAMA\n",
              "Yh0MvIX82HXMNmVZvrJh3UDTNQpJAAAAxEGaJEmoQWyZTAhX//44QAAABxE6gtysAn/s1QSX/inX\n",
              "Lc4D44bDvTAx15AuOmlnaJCYiy05BmF3UAKRDyy8D4mselDiLOOzLuXlhdD2Y8F2y818AjI5/y8E\n",
              "qtEoJrvKYDFRKgSkvoPZzzPJPsDtit6LFbSnvLZJh69eApMkqX1sthJp+pBswnCCNiI4agxN4EvK\n",
              "LLt/UQGDRhZeXk0yPNBGI8xlYu4PQFIBmVI+oai4reZgsTm6watCfthYGBhg7xpVe58AAABgQZ5C\n",
              "RRUsL/8AAAMAR2T5A7271o9/RWrCFGB/xt32F25i04HcVSpN2b9lUXYv6PA82Q5w4RJxSvEVzHd2\n",
              "gAZ+VHf4s+uVfdYQABg0aAPeHlx9/N5HOV12FdiLGjISAIOBAAAANAGeYXRCvwAAAwBiI4AJ+sfH\n",
              "1Y1GXSpW6zj2It2k/0AZkd+B9oeYgTeuEMroX3R1ESUMUVsAAABYAZ5jakK/AAADAGIdAEnpbG7C\n",
              "iZBefSSW54dQrq8BQ29dTO5DE1E39SUmUoAA0TCQaV8i6lzRU0BCjA3fqvWHpuEWGS/e/8x1HHCk\n",
              "pihTJtgOPjF6W/wIeQAAAORBmmZJqEFsmUwUTC///oywAAADAdHqBBTgBt45x83OiinXrjGR0YfE\n",
              "nK2rr59RwRZish2Zhcr9Upo3Uho2FZGH0juVzcdz2hd/Cja2KZ1TKrvLysiosCi/TlZpzU6cPBQW\n",
              "1jWWi3x7P5QL90t7miwEiXNnINDj0e52MMPbhe0ctzIkPv542XmGEdBzbNVmEVE2+TZ8nTn/9Oj2\n",
              "foeS9poTKKhf4bGzQg7Ec/ma8jAf0ksuCFJLGs3cGAAbR94L7N21GnH/jcQNtGa6ooXYVvQTrfTB\n",
              "FjKObCJDlpFVPvMnvZowtOEAAABdAZ6FakK/AAADAGIDhdafRvDTN0Y8BACPXciHEll65Adk/alZ\n",
              "E4lfI4uFZ/Ty4wIuQVStQch6ok54ZlMY6QJfSSlEXLjf/exFnHI0eAadSuXuscDHkLUSqhnPdrGF\n",
              "AAABL0GaiknhClJlMCF//oywAAADAdTWnwNP0Co8aQ8P72q8/axK/I1rWxrTYFesDh1kfBYyUF5C\n",
              "RDzU3g5+9qr/0+c0VzFupbmXoIPP1d3n7yt9qhb9pOHBODdyyzZfjIBHytxUiaWi5+RrBemmYxRK\n",
              "z7kTqLbwuSJ1loUB1yRAjPpWx8NnqlJ7Ut6QaJ+5rCaoUEBNXZZoyGjesuYCL8MFuADVl1RyoWBT\n",
              "J2Um5P3JWwC8OcDA7vqM1EPPVq+1P/1JkE+NJ9ZoBlyq4Aq0/5g2P/jt9BAWSQIErozOJDg1qKwC\n",
              "wY5wigKxsU78rJKt3ziiusBcCV/iEWOiCeEy5HL69ns3RKtCBngklPnkF6GfqhzKqY7ByMCTRsK/\n",
              "ADOjby0vvVwmsq5kDW6qSEmf/0eogQAAAG9BnqhFNEwv/wAAAwBHZH5FR3iFXjRpzN7c80VDjhlM\n",
              "2ICeeRod+ZwEw87FeQMATgOOgawEAdBA3aywAtgMezYdpMurquS2oFlB/elHIC8wGtdiKB3ej29B\n",
              "RaTpwbSaSwYIEiI0NUn7wfc/7fCPDZgAAABXAZ7HdEK/AAADAGIgMILDu4PZXMMFHMG/hQAFo83O\n",
              "IU/C3EuyOL8fQ999t6E7gDV9aKRDMc3Rjf5RjlCcALZZKgyvFiBbA79ZzLervGww/LKK/ehiAH+A\n",
              "AAAASQGeyWpCvwAAAwBiG+kNPQsaXW7Lmkq5iD5QTBS6x1NgF3ch2OXvQF2ynYSFSSNL2k5CKMAA\n",
              "0TDZCmdkI+PVAQBdjm6FQuh5DZkAAADrQZrOSahBaJlMCF///oywAAADAdThOhpEGkf+L4dANSLa\n",
              "5qZ4aKbx2WcHJFxE5oma1aEUzGF2gHo0uQWyK9LvDjksA86FwJe0kDoZD+PAHGorfc1q0YnEsZrr\n",
              "SReHOss9cdNYSL9op8z1//1Zbx/gmfo3mEdlyIFbuTyMy/0GFKXsYi6JN7gW1z8MW9tpvnfGrjyK\n",
              "a8nIgilgDdGOkZq+O2XdDLhSQRR98XHEgv5qf0NUuxaBvMybO+rKZY14VZRH73kbTYVog4W2qhNf\n",
              "WWGrBv/xQ9sTB1igTWnfLETRzoe/c+sJl4WsxddHIAAAAFpBnuxFESwv/wAAAwBHYDNkfe3tSk4B\n",
              "GZ6jWmyMVQ1gdObUOdiYE+Vg220Tte55H83eD+AAfZrEOcsMngzMN+R1eRSxnFj2QPrhBbs7GH9e\n",
              "IHwyFRh02M5gnYAAAABGAZ8LdEK/AAADAGItw+UcLzkQZUnOM+k9lAr7GcUYDjZ1JW8znEsd3IKC\n",
              "E6bHnZtBAAIUa9k+oK3+q0MJPceMLCOwP0RxwQAAACcBnw1qQr8AAAMAYh0MvIB7wFje7e1cJ0vJ\n",
              "0gCA57iPUA6fpCAQB80AAACDQZsSSahBbJlMCF///oywAAADAcfVex5A2RRK2Rb9VPRkzUxktG2w\n",
              "N0rnmZPNkGWAFQ1eEbUd/8BzB5jS6uC+5hTF8ezrQBh1ewYvcKnq51WQLJ5bvZiOhB9LzSWpbz37\n",
              "UQI2fV9F53dpNPo2+2E4n6zfTjIZBW/2b3Ak92kqOJg23kEAAAA0QZ8wRRUsL/8AAAMAR2A6+FN2\n",
              "G8oABAm2Ws1t6Mt7AVOuFg6tY+kyFmmWg2tOJiCAQFVB/gAAABsBn090Qr8AAAMAYf91130WD+iT\n",
              "C+07AEBgG/AAAAA8AZ9RakK/AAADAGIdKzG7ddqg+UhFmSv+BWIJg3h1gqax2AFoOzL1bdGiNHAa\n",
              "DvQcT+6kDZQu+xL1PDUhAAAAwUGbVkmoQWyZTAhf//6MsAAAAwHI8/CXIAUhTa1sF6s0vCvZRb3P\n",
              "onSaWzCGnn8Pm/5i61YVOp6vTLuzWUreIK3SCBSnRBPL9kVTUCxN1TuTFtga4bu3BRiYBZUND1K5\n",
              "hJ3YK77TdfPvzTj2++3iw90HgOuVzim23A7V/MKSrFIJGOxmLsYysUnG0On92BU03zzYdvX4/sHO\n",
              "alrDXgPAZ0SX0tkCRwmgpCsHGk8YejYLKPj1tvOjmKNyR3BSj1kCtkAAAABZQZ90RRUsL/8AAAMA\n",
              "R3zaNK2RWYfLpzDvhsfg3sGZxYy3VzVOAAAndWmBgWbMrGScsBlSOcJascIIZMrD5zYXZAGIg0ZY\n",
              "xVKF7mXoHkvsFWuHhN/folrk0TsAAABMAZ+TdEK/AAADAGH/geuNnbGdKGjkL/SCYK4tl+mhzR4A\n",
              "CXIlJ+K3weOmRWqAEpRU0xMxB9y3dAze1edE2rrAY/2fPb4s+APe/BkHzQAAAEsBn5VqQr8AAAMA\n",
              "Yh0CqSqDB843/rF2fw0PgN3OpgwcvaV+Ar7wI8Q4uFuEzmS33eu7Gwm4AFrCGUfZelwAyoGQUt4+\n",
              "JFbIKNOAP8AAAAEsQZuaSahBbJlMCF///oywAAADAdI/WVOA/zUSIKhoz6V4iUc/H7RjDzPfcMOk\n",
              "JpzqpqfqIosdvVEHkKbqdmxXzu3ianxqU9+wSCcLvAbA3cWO5SzY+PsvJ/PZhyv+NR0GTSB7W0DR\n",
              "fy/OxtXAQ4zTk2dAMPQkFw5YZbg3fdn57TIXlKEoiIFGZFMt8YlgeQkjNpxqFVlm29RsSt5w0aru\n",
              "vr3+qsR14POAzo0RYuLYZtqXH3GS7+QT4wD1smEeI8HNg2YLNFKalkonmbbCGWg+iUfASgVMM1k7\n",
              "JQPmwvKuK9WaOX9SqkscPIyzsRnqtx1QpmpIopZyb9lx/ngX3/kb+LusPvz1lg9HgU4JtgirdE4k\n",
              "qD2MJlmIoUVOxWGrW5+vd9qZYSq+/h3MQ4VhAAAAh0GfuEUVLC//AAADAEd81w/2QhgrE8YrZf4A\n",
              "q75AvWUW4yLAAeTWhL/ApMYmYjUOB0JIj9ZyW0s8A+AKYT0yKEfbnP52sHAQ+osddadwc3+Fr+Z7\n",
              "kAoM+CxvKauAotzoEMCatWsEuJ6ue3MljppTi2JdnAIHABHkh86nXgEL3yP4J/G6TyjAgQAAAEIB\n",
              "n9d0Qr8AAAMAYf90O3NrjiAIUQqycbkGJw96WYkDIAp1gBaWzuErNLx0q3sTqVflA6t+tXRw8+AP\n",
              "/m6YyTECkTsAAAA9AZ/ZakK/AAADAGIdDLxj2M4tkEjPt7wjW3jREG0DgOxL67bfSPHDwXZ7rK7B\n",
              "/DrybtgVWJz1YeJCUVKGpQAAAKdBm95JqEFsmUwIV//+OEAAAAcQaYMwfU0ADjV/DhBjixFSIe2G\n",
              "66F5dLQnUS3wHod9kL68Bl3x6wcyN61/SfptHf+aCzAiNMVyBG6ZBonBHWNq0xPN8NlilGV9Pw7K\n",
              "9Y3dnXK+Cl+kUvkYpV1YIuC3CR5Ug7v/VSDuCym9hjNsiAgWtIyQydmU2WjS5IuD/7wok5TJPlQP\n",
              "lCuMlHBy3Rm9E7U/DxCXYAAAAH9Bn/xFFSwv/wAAAwBHdvL27FaHjYEsFJtl234XqWNyflbK2Fio\n",
              "kWUVyO1GJZe6qb9OEr1YLmgY2qiHlvQAdvHDHlEkajrjePVlQwM2g45QScXeApioyzP+Pay7herI\n",
              "3X1iUj10n/rs/ycZob6COk5Rwt+KthYd82R/nafSwCHhAAAATgGeG3RCvwAAAwBh/w3xdg2wE+h6\n",
              "FEAmUpl05xRJeS6lu+IPXuea3SZAEQnldQiI4KNNJZ52VvuJwyWDKwSXsTpJ9joigPAaQ068jcCD\n",
              "gQAAAEUBnh1qQr8AAAMAYiH8gte+MDQ+fmwQTICPmOX3RJWrBKvNrU40O6qTefRz1tOAAUAimvXA\n",
              "tC/BTsvD+STr9wwlrVd4z4AAAAYmbW9vdgAAAGxtdmhkAAAAAAAAAAAAAAAAAAAD6AAACdgAAQAA\n",
              "AQAAAAAAAAAAAAAAAAEAAAAAAAAAAAAAAAAAAAABAAAAAAAAAAAAAAAAAABAAAAAAAAAAAAAAAAA\n",
              "AAAAAAAAAAAAAAAAAAAAAAAAAgAABVB0cmFrAAAAXHRraGQAAAADAAAAAAAAAAAAAAABAAAAAAAA\n",
              "CdgAAAAAAAAAAAAAAAAAAAAAAAEAAAAAAAAAAAAAAAAAAAABAAAAAAAAAAAAAAAAAABAAAAAAoAA\n",
              "AAHgAAAAAAAkZWR0cwAAABxlbHN0AAAAAAAAAAEAAAnYAAAEAAABAAAAAATIbWRpYQAAACBtZGhk\n",
              "AAAAAAAAAAAAAAAAAAAyAAAAfgBVxAAAAAAALWhkbHIAAAAAAAAAAHZpZGUAAAAAAAAAAAAAAABW\n",
              "aWRlb0hhbmRsZXIAAAAEc21pbmYAAAAUdm1oZAAAAAEAAAAAAAAAAAAAACRkaW5mAAAAHGRyZWYA\n",
              "AAAAAAAAAQAAAAx1cmwgAAAAAQAABDNzdGJsAAAAt3N0c2QAAAAAAAAAAQAAAKdhdmMxAAAAAAAA\n",
              "AAEAAAAAAAAAAAAAAAAAAAAAAoAB4ABIAAAASAAAAAAAAAABAAAAAAAAAAAAAAAAAAAAAAAAAAAA\n",
              "AAAAAAAAAAAAAAAAGP//AAAANWF2Y0MBZAAe/+EAGGdkAB6s2UCgPaEAAAMAAQAAAwAyDxYtlgEA\n",
              "Bmjr48siwP34+AAAAAAcdXVpZGtoQPJfJE/FujmlG88DI/MAAAAAAAAAGHN0dHMAAAAAAAAAAQAA\n",
              "AD8AAAIAAAAAFHN0c3MAAAAAAAAAAQAAAAEAAAIIY3R0cwAAAAAAAAA/AAAAAQAABAAAAAABAAAK\n",
              "AAAAAAEAAAQAAAAAAQAAAAAAAAABAAACAAAAAAEAAAoAAAAAAQAABAAAAAABAAAAAAAAAAEAAAIA\n",
              "AAAAAQAACgAAAAABAAAEAAAAAAEAAAAAAAAAAQAAAgAAAAABAAAKAAAAAAEAAAQAAAAAAQAAAAAA\n",
              "AAABAAACAAAAAAEAAAoAAAAAAQAABAAAAAABAAAAAAAAAAEAAAIAAAAAAQAACgAAAAABAAAEAAAA\n",
              "AAEAAAAAAAAAAQAAAgAAAAABAAAKAAAAAAEAAAQAAAAAAQAAAAAAAAABAAACAAAAAAEAAAoAAAAA\n",
              "AQAABAAAAAABAAAAAAAAAAEAAAIAAAAAAQAACgAAAAABAAAEAAAAAAEAAAAAAAAAAQAAAgAAAAAB\n",
              "AAAGAAAAAAEAAAIAAAAAAQAACgAAAAABAAAEAAAAAAEAAAAAAAAAAQAAAgAAAAABAAAKAAAAAAEA\n",
              "AAQAAAAAAQAAAAAAAAABAAACAAAAAAEAAAoAAAAAAQAABAAAAAABAAAAAAAAAAEAAAIAAAAAAQAA\n",
              "CgAAAAABAAAEAAAAAAEAAAAAAAAAAQAAAgAAAAABAAAKAAAAAAEAAAQAAAAAAQAAAAAAAAABAAAC\n",
              "AAAAAAEAAAoAAAAAAQAABAAAAAABAAAAAAAAAAEAAAIAAAAAHHN0c2MAAAAAAAAAAQAAAAEAAAA/\n",
              "AAAAAQAAARBzdHN6AAAAAAAAAAAAAAA/AAAENAAAAMMAAAAjAAAAJQAAACwAAABuAAAATgAAADAA\n",
              "AAAyAAAAwQAAAEsAAAAxAAAATAAAAOsAAABjAAAARQAAAC0AAACiAAAAQAAAACoAAABIAAABFwAA\n",
              "AGoAAABHAAAARwAAARAAAABpAAAARAAAAEgAAACLAAAASgAAAC0AAAAjAAAAyAAAAGQAAAA4AAAA\n",
              "XAAAAOgAAABhAAABMwAAAHMAAABbAAAATQAAAO8AAABeAAAASgAAACsAAACHAAAAOAAAAB8AAABA\n",
              "AAAAxQAAAF0AAABQAAAATwAAATAAAACLAAAARgAAAEEAAACrAAAAgwAAAFIAAABJAAAAFHN0Y28A\n",
              "AAAAAAAAAQAAADAAAABidWR0YQAAAFptZXRhAAAAAAAAACFoZGxyAAAAAAAAAABtZGlyYXBwbAAA\n",
              "AAAAAAAAAAAAAC1pbHN0AAAAJal0b28AAAAdZGF0YQAAAAEAAAAATGF2ZjU4Ljc2LjEwMA==\n",
              "\">\n",
              "  Your browser does not support the video tag.\n",
              "</video>"
            ]
          },
          "metadata": {},
          "execution_count": 10
        }
      ]
    },
    {
      "cell_type": "code",
      "source": [
        "input_shape = [4]\n",
        "n_outputs = 2\n",
        "model = Sequential([\n",
        "    Input(shape=input_shape),\n",
        "    Dense(32, activation = \"elu\"),\n",
        "    Dense(32, activation = \"elu\"),\n",
        "    Dense(n_outputs)\n",
        "])"
      ],
      "metadata": {
        "id": "W2Wg2kEGfsUy"
      },
      "execution_count": null,
      "outputs": []
    },
    {
      "cell_type": "code",
      "source": [
        "def epsilon_greedy_policy(state, epsilon = 0): #choose random action with probability epsilon, otherwise choose best\n",
        "    if np.random.rand() < epsilon:\n",
        "        return np.random.randint(n_outputs) #random action\n",
        "    else:\n",
        "        Q_values = model.predict(state[np.newaxis], verbose = 0)[0]\n",
        "        return Q_values.argmax()"
      ],
      "metadata": {
        "id": "dpDBCbhgftJY"
      },
      "execution_count": null,
      "outputs": []
    },
    {
      "cell_type": "code",
      "source": [
        "replay_buffer = deque(maxlen=2000)"
      ],
      "metadata": {
        "id": "eUgDDcEjgOTv"
      },
      "execution_count": null,
      "outputs": []
    },
    {
      "cell_type": "code",
      "source": [
        "def sample_experiences(batch_size):\n",
        "    indices = np.random.randint(len(replay_buffer), size=batch_size)\n",
        "    batch = [replay_buffer[index] for index in indices]\n",
        "    return [np.array([experience[field_index] for experience in batch]) for field_index in range(6)]\n",
        "    #the six are states, actions, rewards, next_states, dones, truncateds"
      ],
      "metadata": {
        "id": "YmAA6QHBgPVU"
      },
      "execution_count": null,
      "outputs": []
    },
    {
      "cell_type": "code",
      "source": [
        "def play_one_step(env, state, epsilon):\n",
        "    action = epsilon_greedy_policy(state, epsilon)\n",
        "    next_state, reward, done, truncated, info = env.step(action)\n",
        "    replay_buffer.append((state, action, reward, next_state, done, truncated))\n",
        "    return next_state, reward, done, truncated, info"
      ],
      "metadata": {
        "id": "Ooxv-kRngQek"
      },
      "execution_count": null,
      "outputs": []
    },
    {
      "cell_type": "code",
      "source": [
        "env.reset(seed=42)\n",
        "np.random.seed(42)\n",
        "tf.random.set_seed(42)\n",
        "rewards = []\n",
        "best_score = 0"
      ],
      "metadata": {
        "id": "7tj2_dpBgRMb"
      },
      "execution_count": null,
      "outputs": []
    },
    {
      "cell_type": "code",
      "source": [
        "batch_size = 32\n",
        "discount_factor = 0.95\n",
        "optimizer = Nadam(learning_rate = 0.01)\n",
        "loss_fn = MSE\n",
        "\n",
        "def training_step(batch_size):\n",
        "    experiences = sample_experiences(batch_size)\n",
        "    states, actions, rewards, next_states, dones, truncateds = experiences\n",
        "    next_Q_values = model.predict(next_states, verbose = 0)\n",
        "    max_next_Q_values = next_Q_values.max(axis=1)\n",
        "    runs = 1.0 - (dones | truncateds)\n",
        "    target_Q_values = rewards + runs*discount_factor*max_next_Q_values\n",
        "    target_Q_values = target_Q_values.reshape(-1, 1)\n",
        "    mask = tf.one_hot(actions, n_outputs)\n",
        "    with tf.GradientTape() as tape:\n",
        "        all_Q_values = model(states)\n",
        "        Q_values = tf.reduce_sum(all_Q_values * mask, axis = 1, keepdims=True)\n",
        "        loss = tf.reduce_mean(loss_fn(target_Q_values, Q_values))\n",
        "    grads = tape.gradient(loss, model.trainable_variables)\n",
        "    optimizer.apply_gradients(zip(grads, model.trainable_variables))"
      ],
      "metadata": {
        "id": "Yjy9hQiwgR_y"
      },
      "execution_count": null,
      "outputs": []
    },
    {
      "cell_type": "code",
      "source": [
        "for episode in range(600): #long-running cell, just under an hour on A100\n",
        "    obs, info = env.reset()\n",
        "    for step in range(200):\n",
        "        epsilon = max(1-episode/500, 0.01)\n",
        "        obs, reward, done, truncated, info = play_one_step(env, obs, epsilon)\n",
        "        if done or truncated:\n",
        "            break\n",
        "\n",
        "    print(f\"\\rEpisode: {episode + 1}, Steps: {step + 1}, eps: {epsilon:.3f}\",\n",
        "          end=\"\")\n",
        "    rewards.append(step)\n",
        "    if step >= best_score:\n",
        "        best_weights = model.get_weights()\n",
        "        best_score = step\n",
        "\n",
        "    if episode > 50:\n",
        "        training_step(batch_size)"
      ],
      "metadata": {
        "colab": {
          "base_uri": "https://localhost:8080/"
        },
        "id": "8M_ILyzigTUC",
        "outputId": "233f7939-ee18-43c9-91c3-867fcd268656"
      },
      "execution_count": null,
      "outputs": [
        {
          "output_type": "stream",
          "name": "stdout",
          "text": [
            "Episode: 600, Steps: 200, eps: 0.010"
          ]
        }
      ]
    },
    {
      "cell_type": "code",
      "source": [
        "model.set_weights(best_weights)\n",
        "anim2 = show_one_episode(epsilon_greedy_policy)\n",
        "HTML(anim2.to_html5_video())"
      ],
      "metadata": {
        "id": "RRZA5q2pgUEc",
        "colab": {
          "base_uri": "https://localhost:8080/",
          "height": 537
        },
        "outputId": "8e12f8ca-3eaa-4a18-f3f4-aef9299dbe77"
      },
      "execution_count": null,
      "outputs": [
        {
          "output_type": "stream",
          "name": "stderr",
          "text": [
            "/usr/local/lib/python3.10/dist-packages/gym/utils/passive_env_checker.py:233: DeprecationWarning: `np.bool8` is a deprecated alias for `np.bool_`.  (Deprecated NumPy 1.24)\n",
            "  if not isinstance(terminated, (bool, np.bool8)):\n"
          ]
        },
        {
          "output_type": "execute_result",
          "data": {
            "text/plain": [
              "<IPython.core.display.HTML object>"
            ],
            "text/html": [
              "<video width=\"640\" height=\"480\" controls autoplay>\n",
              "  <source type=\"video/mp4\" src=\"data:video/mp4;base64,AAAAIGZ0eXBNNFYgAAACAE00ViBpc29taXNvMmF2YzEAAAAIZnJlZQAANXRtZGF0AAACrwYF//+r\n",
              "3EXpvebZSLeWLNgg2SPu73gyNjQgLSBjb3JlIDE2MyByMzA2MCA1ZGI2YWE2IC0gSC4yNjQvTVBF\n",
              "Ry00IEFWQyBjb2RlYyAtIENvcHlsZWZ0IDIwMDMtMjAyMSAtIGh0dHA6Ly93d3cudmlkZW9sYW4u\n",
              "b3JnL3gyNjQuaHRtbCAtIG9wdGlvbnM6IGNhYmFjPTEgcmVmPTMgZGVibG9jaz0xOjA6MCBhbmFs\n",
              "eXNlPTB4MzoweDExMyBtZT1oZXggc3VibWU9NyBwc3k9MSBwc3lfcmQ9MS4wMDowLjAwIG1peGVk\n",
              "X3JlZj0xIG1lX3JhbmdlPTE2IGNocm9tYV9tZT0xIHRyZWxsaXM9MSA4eDhkY3Q9MSBjcW09MCBk\n",
              "ZWFkem9uZT0yMSwxMSBmYXN0X3Bza2lwPTEgY2hyb21hX3FwX29mZnNldD0tMiB0aHJlYWRzPTE1\n",
              "IGxvb2thaGVhZF90aHJlYWRzPTIgc2xpY2VkX3RocmVhZHM9MCBucj0wIGRlY2ltYXRlPTEgaW50\n",
              "ZXJsYWNlZD0wIGJsdXJheV9jb21wYXQ9MCBjb25zdHJhaW5lZF9pbnRyYT0wIGJmcmFtZXM9MyBi\n",
              "X3B5cmFtaWQ9MiBiX2FkYXB0PTEgYl9iaWFzPTAgZGlyZWN0PTEgd2VpZ2h0Yj0xIG9wZW5fZ29w\n",
              "PTAgd2VpZ2h0cD0yIGtleWludD0yNTAga2V5aW50X21pbj0yNSBzY2VuZWN1dD00MCBpbnRyYV9y\n",
              "ZWZyZXNoPTAgcmNfbG9va2FoZWFkPTQwIHJjPWNyZiBtYnRyZWU9MSBjcmY9MjMuMCBxY29tcD0w\n",
              "LjYwIHFwbWluPTAgcXBtYXg9NjkgcXBzdGVwPTQgaXBfcmF0aW89MS40MCBhcT0xOjEuMDAAgAAA\n",
              "AZFliIQAL//+9q78yytHC5UuHVl7s1Hy6Ely/YgwfWgAABQUKAAAAwCBvjKGiVfmkn0AAAMAS0AR\n",
              "wGiDtCuiLiECODPEsIUPCQXMV8MfjXpr+fwgbznYjM11SdLKDy+bp1DnTNesuq+n7jD4fXJQnYkK\n",
              "+CoWWXw97rvpXKalwGWZbbLJe5DYPFbeCt/fTyO9wON6yioABfoB2MCrsVz5AjrfF1DcktyOKSpO\n",
              "PxucdiroREllQg97n13j8AxCLML7N6yVXz1YKloiUA0EebD8eLd2sHq8BL1CuE82hOPNj7blp57r\n",
              "IngSZJQfp78S+HQlGVN2siZrO6e9AMAs7INSJiMhyBTWxJN3d+TNQ9s9LHb1fYFYQ3H0Ip9+2Uku\n",
              "O7PiOVvLkaBIoKEnq/2m1BKLjPxLX0xSQsD0NcyDcu+kwLOReGLbwfuAOwy8wzCgd6gsjQojBElK\n",
              "Ocu35i2jpA71MvH1LONhB/r0HtO3og9dPzcwvOyAAGpgAAADAAADAAADAAADAAADAAADAAADAAAD\n",
              "AACSgQAAAKNBmiRsQv/+jLAAAAMB0h84YAwqW2nmqpRrkB0JOkdPQa2ZulNWbDB4Bk04Fkmyyp9r\n",
              "+gdSJrvR5LInmNIc/e4awm+dtWmMFnBJ+OjUm+G/MmWC/rNne1KzyPsCscs30TRabFmEHf6GgjT/\n",
              "iNAE1Oyv4eheRVNYgmhJxF1kTX7/Cznf83YqDrnQsK0JGrmf0glzVgYJdcOhWOGvdJz0LLgzifWw\n",
              "AAAAIUGeQniF/wAAAwBHQyxnG7tjRl85BHAr7tM8XES4n4AD/QAAAC4BnmF0Qr8AAAMAYf911AxJ\n",
              "eNg/ZLBdaG9lKR4ABpLUrXmSp5EaGXEG/MT2qjPgAAAAEAGeY2pCvwAAAwAAAwAAR8EAAABfQZpo\n",
              "SahBaJlMCF///oywAAADAdNNAscsCoZ5xRFdEO4RM77UH+CdmbZahB6D3ibrbuXqg/C6uDkTpYed\n",
              "bZAgBzDiqb83ypIZTYkQtm/pri0D31XHAvCc7gbeEr8AMeEAAAAjQZ6GRREsL/8AAAMAR2czjIqq\n",
              "63GqYM92xS3WybVWHDpUou8AAAArAZ6ldEK/AAADAGH/ddd9hsj6h3RT2u8W093Puc5yfmKVb8FR\n",
              "8kwYVbAf4QAAABABnqdqQr8AAAMAAAMAAEfAAAAAjUGarEmoQWyZTAhf//6MsAAAAwA7niIDsxGu\n",
              "FybNops+5P+QE3KmweztpDrY68FfpBd26f8XQf8/vrrvm0YtwI05bHvUxJLXG82kcnDOJsSdKFB+\n",
              "WhA7H3/i1Jtz9n5W2g9LX1QcmjrR/u57aBE0Tp/X93V1lZoTsX3ZtAycHlB+daZ/1foxwlCY3xU/\n",
              "SAAAAC5BnspFFSwv/wAAAwAZKItCF00dezYn5P4kmRF4v4b6rC2U2mlzs/hnfS5qaD/BAAAAHwGe\n",
              "6XRCvwAAAwAMRHdxIBAG4E86m80MT2VzbuL444AAAAAeAZ7rakK/AAADAAR3rgnGfye0Qt1sJYBq\n",
              "sXIRJgH+AAAAg0Ga8EmoQWyZTAhf//6MsAAAAwHR8QZtU5xsRRkwBAhNM1msR5oWmbdmzLZwj3TV\n",
              "B1j3pwid8ZmxQZjpP/nXI2P0bC0gRXOv0Q4XA9HU9fpV7wMAlX9LTV0HZd7YoyXg+hcVwUdoITQa\n",
              "D2JY8EgU2InwhmgJv9lx3HDXroxCE184Nn2JAAAAJ0GfDkUVLC//AAADAEdnM4yZnBxPyRZQ9zf1\n",
              "BpJRNat3LH5d2LAf4QAAABgBny10Qr8AAAMAYf9102L2IKZN31vADukAAAAcAZ8vakK/AAADAAGc\n",
              "dDLxl8FW8Es+AuSca0idgAAAAJNBmzRJqEFsmUwIX//+jLAAAAMB0lkR27ciCv3INw97ByQCSHqx\n",
              "52lcHMWG3LAPHcMwbzCVLgkQZ+N1ahRlTNvJKpMgH3zWPlE43/ASXNKBsAeYuHDmmUClUMLF/oHS\n",
              "mR08kE3F36AZ1a+skcGEPfwE3sJAzWQpTFed/pxPK8W/j9eiF3fzCbadBwLfFk+Ucdoa4ogAAAAk\n",
              "QZ9SRRUsL/8AAAMAR3OOp1l1dL9d1VQSHQy4L9n4URuK4+OPAAAAIwGfcXRCvwAAAwAMHlaoP2Hg\n",
              "EKGwBwph744O+FFPRxG/H9E7AAAAGAGfc2pCvwAAAwBiB/wtrQufpx1QNRgFbAAAAKtBm3hJqEFs\n",
              "mUwIX//+jLAAAAMB0fFOAAxVXmp+TQL62Vc9Clxe0ldMqym/gHFzqxL8MDVMw2WaVByH71WXJW0y\n",
              "Zh3pGSGv4cbB897UQyjDFrFkRAspfnbjuh+9gNvicX2gegZSdzjYRJNq66TjAdq6F09VnwqecNAq\n",
              "KloODqft4jjIHfSauJ7xDC5NLFIbHRLDjU3pKAgcyuqfNB4TbVVqkbdsYDXkqeoLF3EAAAA0QZ+W\n",
              "RRUsL/8AAAMAR3OOpur0RinDBOJnF0ePrFJGpwt7xP6D2vnBgEKXLMqqy/P7BrBLwAAAAB0Bn7V0\n",
              "Qr8AAAMAIb4gzLkDe21euRnU+G6U2UgH+QAAACABn7dqQr8AAAMAYh0MvGXuc/m7rhgFD/FZBAop\n",
              "2C1GLQAAAF1Bm7xJqEFsmUwIX//+jLAAAAMB0e5W3AydyC7jEchOZ6jIHxGa45RtG6lJDwDuLJ9e\n",
              "Ept+dPXZZsuTHHkJQRCglGckfDWVJ5HWzDehTtT7FBINI67ntzd10Q2ARsAAAAAeQZ/aRRUsL/8A\n",
              "AAMAR3OOp1lVWjhmdjKFS8yLYBSRAAAAEAGf+XRCvwAAAwAAAwAAR8AAAAAaAZ/7akK/AAADAGId\n",
              "DLxl7nP5jkUXf70oBmUAAAA9QZvgSahBbJlMCF///oywAAADAdI/vrEFzZgVHvaijszeYkBA/lv7\n",
              "aemT01jejeuuqBP4Wj1aDRhJE7wBAwAAADhBnh5FFSwv/wAAAwBHc46nWVVKCePub3hNJlxWZlaL\n",
              "cyACXxnM1TdgzrVt/IkJTLHBaUGHsgIOmAAAABwBnj10Qr8AAAMADI/xSvK6+LDsM2zb5OAjAgUk\n",
              "AAAAOQGeP2pCvwAAAwBiHQy8Ze5z+buzJKmkVfSW2+MgAhsKj+rRAy6pwhULzRtzoNstTX5yZIwz\n",
              "RJInYQAAAI5BmiRJqEFsmUwIX//+jLAAAAMAO/6OD3ukpomF1QiYBooACOnyRNGMPeRRKFHwlf/M\n",
              "heGQ21Dj2xfEp2LVHpqSgoeLCiPIlGYqxsOvjXshQKeaS3nipjfEEuopfhFOM+XEz6QYlS5s+j9q\n",
              "td95YqmfwH3CZj6x2kIcvGKOMU0hCP27agrJypK8sq80kGFBAAAAIEGeQkUVLC//AAADAAkvkBnd\n",
              "5QY+Ovbulm0MelbEgD/BAAAAHQGeYXRCvwAAAwAEd8Hj1HDmLnxtVbW0/cpDBpE7AAAAEAGeY2pC\n",
              "vwAAAwAAAwAAR8EAAACfQZpoSahBbJlMCF///oywAAADAdHxBnFVBI27Kf1IPHJd/npP3NpKU2ny\n",
              "Tnnk3heMkPGve46/wcTb2gMqBjkz6nDG2YkrhCX+vjPzL035BsnK3T9xSChO4VErtZEWl6z20Pa0\n",
              "Q1YOHiydb+yUBTbwTb/wDkX53pgraMxT3HVM+/qo+mg5+SGiWgwRFI4yImKceJxgX25vGf1pjMXQ\n",
              "1qaFAAAAJEGehkUVLC//AAADAEdnM4yZm2CqWAAAiKCc+fjbchwBc5QH+QAAACgBnqV0Qr8AAAMA\n",
              "YiN//EZxY6/x4swdVBetmTO/CcaQSzoLiM+cajFhAAAAEAGep2pCvwAAAwAAAwAAR8AAAACUQZqs\n",
              "SahBbJlMCF///oywAAADAdJZEiHA4oAFHSs/PbZ28udKmwbi/oggCZmm9wkJPaB/6CDPaDS9NJ5u\n",
              "BiH++C2hKTP9FVuTGzy8NaWmy554n2J/vFRye/Jvlb1+MWkETOWkdpniMeQfYmM2l2xBN6RjDNQY\n",
              "ElmqBoN0/UkybEKon3wtxY+dmQI9zS4DJ8lvIdKAKAAAAChBnspFFSwv/wAAAwBHZzOMwhAAa2ZE\n",
              "otZpAHezBiBRDU7cae6SbpE7AAAAGAGe6XRCvwAAAwBiI4AJKZVCocGN5ZYB3QAAAB0BnutqQr8A\n",
              "AAMABHdfkx1wEfjkUhJvNW1rT1AP8AAAAEdBmvBJqEFsmUwIZ//+nhAAAAMB0fY0ezhgHwn97kBH\n",
              "4aUKx0wShX2Q1yZB84hVkj2YALTLz941k7Jt+V48ofjB3hy8ijQFlQAAAB9Bnw5FFSwv/wAAAwBH\n",
              "ZzOMmZtcXSPLj2GyftNvIAUlAAAAGAGfLXRCvwAAAwBiI4AJKZVCocGN5ZYB3QAAABABny9qQr8A\n",
              "AAMAAAMAAEfAAAAAgkGbM0moQWyZTAhf//6MsAAAAwCqe5oWQ92OF0OnkETcdKcbv8AvUOeNPAcG\n",
              "00wWk1wiCfDUp+AtgmszwLc9+h7vvWotMHXudRdFZfaNxUhsdVD7vAhILazDcunYg+LP+eIhvN8x\n",
              "W4PUrsyHOTWjQRCpfNmPQHv46wDcbYhhxfqGfEIAAAAhQZ9RRRUsK/8AAAMAIrr8YWFQx+i6x2h6\n",
              "ui1PdRckgKLvAAAAHAGfcmpCvwAAAwAisjg0aLczF8kg9G013+egD/AAAACOQZt3SahBbJlMCF//\n",
              "/oywAAADAce+wrVAD2t4Mkt3oVVNtBHvz3Gz9HTB0H+omWCtHvLefDZR9VoaRvQvClIKItOi2REV\n",
              "G9Yvm+DHkv/RFVmpacWgJqBhHxSgttZUBC48hWTPVC+choJVRxBKONhYSaDuxH6X6Vyu7rx7K5aT\n",
              "QDN4+sFV1vnmYNxLqtSlIAAAAB5Bn5VFFSwv/wAAAwBFZ1mtjCeOZ+nRoQkRGjchAP8AAAAiAZ+0\n",
              "dEK/AAADAF+jsfAvbyKMx2eAnWc86wiMkUIP6uROwAAAABABn7ZqQr8AAAMAAAMAAEfBAAAAe0Gb\n",
              "u0moQWyZTAhf//6MsAAAAwHG7lz4Ao24sCPAf5Ht8nOq5XttfEYcbQX+CPsKj7F4w6L9E4YPUUkm\n",
              "sOvZ+4NwZLtWvmcdjuLm5d8ooWr6kyCC033RfjCHqg+BI60t2YojCRrSf7pK80Cdp9ZuZeboxR2p\n",
              "Uz4/ZaM7gQAAAChBn9lFFSwv/wAAAwBFZ1ioE1tdf+VtL14sGdZimwEqbsqwWdOm2xXwAAAAGAGf\n",
              "+HRCvwAAAwBff6VFKmMDZJiiiqgbMQAAABsBn/pqQr8AAAMABFZHBo0dMSxJoGjVd/DiH+AAAACY\n",
              "QZv/SahBbJlMCF///oywAAADAcbxTgAHwq350nkSp/TnSGckfQ6D/0u5g8KP/FWxH/BKspY69Dms\n",
              "Jv/w+wQs59LVHdhPJeykvWVrhF/hb4y88JsbScQiccrhu1E+extkuIZ0+7shYihv7UuaWb0hT5hM\n",
              "9tuGyYUC3lzdGHkLkhBNjXqGKVwAlib8tl+AG56xoVbj1vywJYkAAAAqQZ4dRRUsL/8AAAMARWdZ\n",
              "rWigVjIyGbu1GltjFMmTRMoFiVd0WpAZiUPnAAAAGgGePHRCvwAAAwBfo7HwlmoLLx+MNHo6OBNw\n",
              "AAAAHQGePmpCvwAAAwAMQQnNGi3smyBTSFMK1f3d1jZgAAAANEGaI0moQWyZTAhf//6MsAAAAwHG\n",
              "8U4AB8+6mbnBu42b8KfsTuc4c1aJ2d/LmoFspSRAzIEAAABIQZ5BRRUsL/8AAAMARXOOp1lVUspV\n",
              "jUP8mdbqaESBDO/ABzo99oo1TMQfIwQIMYA5LGaPtNqS56DvZBze3tsLgKRJ0CNBUxUwAAAAHwGe\n",
              "YHRCvwAAAwAMP/R+SsFuf45p7JmVWcRpNqMoEHEAAAAjAZ5iakK/AAADAF+IE1Gd8OYmofN9w2xx\n",
              "z5Z53jA2haIgQcAAAACMQZpnSahBbJlMCF///oywAAADAcdAHIIBCpO+i4TA5nR6Ky/S6wfkgiX9\n",
              "WWLhYdH7SR40WHijW5P/kc4biqrB+8+DbRg0uYE1sNxh50w5n9ndADR/qYkchIHmd9o4YozwhxbE\n",
              "OpbiqKr8brjcwpRupcj2EBbo+YOuvf44HK+hmdc4KxkcaEhdVNl6PbsAAAA0QZ6FRRUsL/8AAAMA\n",
              "RXOSjmcL1c1yMzt1jNkjPU0S1WsjpW1FFXw7aBnXNnAN8VL738g9IQAAAB8BnqR0Qr8AAAMAXRMG\n",
              "+W3D99gbKd9iWfS6GHJeNjjhAAAAJwGepmpCvwAAAwBfiBNX44y1M2EHPZMIZRTRK0Rd7B2G8jsK\n",
              "H6gImQAAAI9BmqtJqEFsmUwIX//+jLAAAAMBx0Adi4ChiU+RIaN0IqbK7iB7rgjSVCull0CiRXxi\n",
              "gQCJHu5nvjYq/MjcvAOYZIb/eihcgLCEneETeVHSSGOYAmcxf7da7GnhTji9qZTi4bwXkEr5sAOV\n",
              "bQPLLFHCTGv8sAprG7uZDs5EuBKgwL4+O8HrHjtIDAim6f1q2AAAAChBnslFFSwv/wAAAwBFc4ke\n",
              "uN7XOLWllnQcdcxrwtVXzyXY+JNjysH+AAAAGwGe6HRCvwAAAwBdEwb5IgORv8unKKEOKPAHpQAA\n",
              "ACcBnupqQr8AAAMAX50mtcQUyb2h56BBYBaVqxdrqetCasDfnbMAB6QAAABGQZrvSahBbJlMCF//\n",
              "/oywAAADAcbubHgCkVWLV9L9qT+bTpnO42b8UKJpo7awolxBH7RO8UoHM9CTb1D6qit8URbZYdD0\n",
              "gAAAAB9Bnw1FFSwv/wAAAwBFc50bvaYyAYH+bAle0vG4AE3BAAAAFwGfLHRCvwAAAwAANf/sgQA3\n",
              "vy1XZjKhAAAAGAGfLmpCvwAAAwBfnSjDvl+/Jb5iTpDugQAAAIBBmzNJqEFsmUwIX//+jLAAAAMB\n",
              "x7x1NM+gP8W5rdd9LqRvs4uap2mA6DSl1tx607F+cUOv/BcfsBYNbni0zDE9t/USfzraDdkfMBRc\n",
              "bkqfVIgmFUcLfbCFAVd9Y9nbCYgcSTpehSNYyJgxt/DTj8LloE7jBOLUU+SbWVK406K0uwAAAChB\n",
              "n1FFFSwv/wAAAwBFc50bkrLwAHFzpIy3kiZI+/BUlTKtpqahC2M+AAAAHAGfcHRCvwAAAwAMP/So\n",
              "pUwdJ6OTvIJ4KmOYCDkAAAAYAZ9yakK/AAADAF+dKMO+X78lRy/qASIOAAAAiEGbd0moQWyZTAhf\n",
              "//6MsAAAAwHIXmrImllGJhVyUY9tcX2TqqYze/XE0OVgmqYZBOhn8TOJg7kmVioxl8ykqR7lS0e5\n",
              "WB7WJZj3cfelBoQ67jCHEW7bVJJ6DhxRJOz1X7dYt9xA+SPC/SflZkgQuPDXwisVCTui6TYtRw26\n",
              "5VBAprvb37MtYoAAAAAqQZ+VRRUsL/8AAAMARXOOpZwvOBiudUjVwFXxyOYEpvoEG2PZa2sCehxx\n",
              "AAAAFgGftHRCvwAAAwAL7/SovjV47ssAqYAAAAAjAZ+2akK/AAADAF+dDLxl7iLnvofQJ6aSwT37\n",
              "DuEgSgwygQcAAACUQZu7SahBbJlMCF///oywAAADAcbxBnA0EA71SaPOB0cyaFpC6pNq+mbPVUQb\n",
              "LspDaKn66b09QoLVFiwrE8ma8bfQ9UK4zRAnvKPG13ZclYNGfJPuR2X4FPVG79sXyQSXVhH+tZOo\n",
              "0qzwVDa0HpG/02O84cnSlahcp4ONOonqQ7g17EYJgnFFl9tvLKBQuff07UEKuQAAACZBn9lFFSwv\n",
              "/wAAAwBFc46nWVVaOGZ2MoU0PInFEggQPqkt8jD0gAAAABABn/h0Qr8AAAMAAAMAAEfBAAAAJwGf\n",
              "+mpCvwAAAwBfnQy4sWClwXQd3nRXDNbfqr+iqEwT+rtR07xVQAAAAF1Bm/9JqEFsmUwIX//+jLAA\n",
              "AAMBx0AS+zu2s7LDj9BEQv1XdVJXPeVadehAI9oSzCKpv9/7ngcD0OG2uVhvc7lcoBKjxkh1rGpu\n",
              "sths4BErSEzq4kpbS3DSN1iaEUsAAAAnQZ4dRRUsL/8AAAMARXOOpuLRVhirNd8JZjtSAH3aQjU6\n",
              "dmuBf46ZAAAAHgGePHRCvwAAAwAEUzgg1ivj9KzdMilujppc+DAg4AAAABoBnj5qQr8AAAMAX50M\n",
              "vGXuc/jz5mOjNABmQAAAAIJBmiNJqEFsmUwIX//+jLAAAAMBvHuQAEREEULdxs3eHFGgL5DzILZQ\n",
              "vrJmw7gIEPOZybqDbwIq5cbV5Il1yIJO7tuF233Ohk+HC4+BjHAvcwB7cdTnUchs4gBp3/7ubXWk\n",
              "sn8FMl6MGRuWK8lV06hhwrapj8Swnbvcj4qSnk0SNP3xAAAALEGeQUUVLC//AAADAAjsCQoO6ZZz\n",
              "BoZDSsDnHWhBUGNzDrhDbIV7pBqxpFDAAAAAIQGeYHRCvwAAAwAgtnknw1FzDR1aALfU0+b3qa2f\n",
              "bMiqgQAAAB0BnmJqQr8AAAMABDdf3DeLdVdHi0QzpeJJ3GAQcAAAAJVBmmdJqEFsmUwIX//+jLAA\n",
              "AAMBxvFOAAUXB9NJt4Q9WvhczcGr+34uUbRupSP4ZVFNjE8FYygkvwLwmaWJ50fm76pB4OiWv8KR\n",
              "sgCde1MzyBue9UhvcUwhrFV61yGun0TdnqbidJ9iSI5wOBZOIW0NcjekWdeAzuj8yRhbfjawoYvd\n",
              "GWGO7C2FgI4Q4sDNrDK660VHwQAAAChBnoVFFSwv/wAAAwBFZzOMmZtJJ7DOxPHSNBpFOeDMzxjt\n",
              "IUhaeUYFAAAAGAGepHRCvwAAAwBff3XTYvYgpk2ZvcABKwAAABwBnqZqQr8AAAMAC/LaohAjqgJ8\n",
              "r60uSBLgaAQdAAAAT0Gaq0moQWyZTAhf//6MsAAAAwHG6ZZ0gOgD5qk88/v8AJjASQhAR36wlTxv\n",
              "ewcj+tWPyyLwM+uarkKoOueb5u+YYq003ATc6WnEKlUAmYAAAAAxQZ7JRRUsL/8AAAMARXJa45Xt\n",
              "+C0AK4gztCxHJSWUVHvYbKaS+4tfDeaJY+T1cYD0gAAAABoBnuh0Qr8AAAMAX39102L2IKZNnLlS\n",
              "NMB/gQAAABsBnupqQr8AAAMAX50MvGXuc/mOUMMEgmUA8IAAAAB3QZrvSahBbJlMCF///oywAAAD\n",
              "AcbxBnVnwDF5WcKEaRiz6YbvwIMUnBabEbB2Fdv85JxbF9lFbXCeqci4cSQzklcUvs0A/Ba+NqLi\n",
              "RgCm8lp6ulVJsjz2WHSiyMPz62kiMvs9r/GA/4zDtYxlGTLewPJOWt/o+YAAAAAtQZ8NRRUsL/8A\n",
              "AAMARXOOp1lVSvIEALWDQkCF0GbhgiQVZLugmOv9vqTTCjAhAAAAHAGfLHRCvwAAAwAMP/SopTfC\n",
              "F/FwNeoV4SUpIocAAAAZAZ8uakK/AAADAF+dDLxl7nP5khJOoQBZQQAAALZBmzNJqEFsmUwIX//+\n",
              "jLAAAAMBxz/EkwD53ILG3BO/eXHKNo3Uqt3yLdOzdMnXmMkMQA4Hd3mC4XHP5sXTQXXE7bANAUJD\n",
              "oYnQMjXKgRf/4t6xnEyiPCoYRUy1r2xBt3lHpg9SvN0RymkQ59fIX6js1cOAmLQPnwWOntpTUgrw\n",
              "qGNtEB/WxWNWv+1dx2Ggjt75yMxbQeBEMHloZN/EG2NB/+EwOKoeZ4kLcPVJWmiPQTsUOi6MtAAA\n",
              "ADxBn1FFFSwv/wAAAwBFc46m7X5zoAVvrDFtrnyEj+5keLrI2g2FrJmm3WUxIvVtavfJaKoF+8ri\n",
              "gso/Ag4AAAAhAZ9wdEK/AAADACCuhlBqVJEA4xecRr7GUsyyPaRYWwIPAAAAIwGfcmpCvwAAAwBf\n",
              "g4aflOlKNhPgvaVvVO4E6Gp7rZMKR/HTAAAANUGbd0moQWyZTAhf//6MsAAAAwHG8URYDM29zrKv\n",
              "5RtG6g7PVDnidQi+hzg19ouQTUVKgLaAAAAALEGflUUVLC//AAADAEVzjqbzuAFOjWLRc4SKTWZ4\n",
              "p5LjFWsanvCo7te9pFDBAAAAHwGftHRCvwAAAwAMP/SopTfCF/FwNen4rQAl6dj5B8wAAAAfAZ+2\n",
              "akK/AAADAF+H/C2tFEJty15q7MrollGWvlRlQQAAAIBBm7tJqEFsmUwIX//+jLAAAAMBxvFEWAzZ\n",
              "5RwDaLCMphqlic3VZ4ueocZ/7sc/5IPGt41OcYjM68TD0kj+wPndHJSQ0MHd3aZMawIpKDbKsMHC\n",
              "U/i8F8YNfmBfUKkiNSJLZ5QaSebgNs3HsOnzKu4uXT5KVqomtcjGAmbQYIriwQAAADNBn9lFFSwv\n",
              "/wAAAwBFc46nWVVKCdUpvYXdNUAEibGqgZfEBDs2WhfvnhFUuuOdCRFCRQwAAAAbAZ/4dEK/AAAD\n",
              "AARXxBllTdZTGsElPFMLRQIPAAAAGgGf+mpCvwAAAwBfh/wtrRRCbcyVUpX7RAGfAAAAiUGb/0mo\n",
              "QWyZTAhf//6MsAAAAwHJ4TuSnKHb5B0fAngMR9jDqwpVQ5KkVaU71E6MAt4jLLmfk1lvbM76H1+0\n",
              "3Ud01eYh350tHqGIkw4ffnuVKaogHWEd4RbE5Kr9kORf7goPl1/LxpUd8y1gVwat5a78mMXXEnjd\n",
              "RhIIM17JnLdgiBeOpYNDBKjRAAAALEGeHUUVLC//AAADAEVktX70lYPfPh/UdEPATAcSHXtO9W7q\n",
              "HiVQ2M4FQCFVAAAAHAGePHRCvwAAAwAMP/SopTfCF/FwNeoV4SUpIoYAAAAcAZ4+akK/AAADAF+H\n",
              "/C2tFEJttQcF9wSMkkA7oAAAAIlBmiNJqEFsmUwIX//+jLAAAAMByeE6RfbdlAPhWJ3AjEVeCE3S\n",
              "Y0a/J4NLGM9Q2xkr/ZCMoIG5FKZDS8xY2pRdeS+zW4sn99pikx3ZbaOvbHrMnoJEfaYrp3lZOphJ\n",
              "Hbr7HQEHW/N6YOP+d3cIAo1VznnxMQka320bmsPmsdAG0UtHxHGa2pHQjwAAADRBnkFFFSwv/wAA\n",
              "AwBDZ18nvUyUHBr/0u8kYBvVSExyI8gFkV5E9cVCOUnCfjUDsyXLzMb0AAAAJwGeYHRCvwAAAwBd\n",
              "MkGaWcVfkAipuILnULXAkdzc4krixS48/CACDwAAAB8BnmJqQr8AAAMAX4hUUJ/tl0116DnrWF4Q\n",
              "5FF1+sFBAAAAf0GaZ0moQWyZTAhf//6MsAAAAwG8YfZwEVRxZXdxs/R0wdCMOUK625aJtaWGzb4K\n",
              "nEivqlRuZhj838tre/umfjsuYtE8R7kqzoi60UN4KFcfASZ4900qMJvYn4QAAxOZBWWPMnZYjR07\n",
              "/lVivgcLvKwrrC8pN9/G57++73DBYmkAAAAnQZ6FRRUsL/8AAAMAQ2dZrWP6GDmopBwdWpKJyIkm\n",
              "vdIby8xpAIwJAAAAFgGepHRCvwAAAwBdMkGZcc4bRTeQB00AAAAbAZ6makK/AAADAAQ2RwaNHTEs\n",
              "U26s/AIY2wqpAAAAhkGaq0moQWyZTAhf//6MsAAAAwG8YgtiAj4DGDaOcmdlcbtXM+LkT5J+bybT\n",
              "117osdCtwnGBOBCF5JwGBlwnaIZqOrZ75oKALF/9ksQL4G0s/7n29t0VqxSvQ9SbJpZo9hHzRO23\n",
              "02TRMxcaRzyZr+rzzLOkFnQS2GbZKDt4YWddR0h9vLUgAAAAIUGeyUUVLC//AAADAENnPXjLYB3+\n",
              "RGzUPZTqmfDfzLjFgAAAACMBnuh0Qr8AAAMAXTI/OcRRDfTSXzSMrMIvNuI4n5T4qAIwIQAAABMB\n",
              "nupqQr8AAAMAWuv52LXRREJeAAAAb0Ga70moQWyZTAhf//6MsAAAAwG9k5yJbOdGkMyCbq9dHrzG\n",
              "VSALVJYf90hM7lC12VfugdjbAlO9w4PTq285Cx5KbGNfslpIE6HS1c70y55TRXVhyRIbV1a8cZps\n",
              "jiZkIx8asFcW+cjvPMiBizq98QAAAChBnw1FFSwv/wAAAwBDZ0UdlNAHf5EbNRBsm54AEN9iAiry\n",
              "d0i1oqMXAAAAIwGfLHRCvwAAAwBdMfY1XJTNve0YNbZPNEvrCyLJdpsK0OmBAAAAFAGfLmpCvwAA\n",
              "AwBa6/ndroXWrQHBAAAAjUGbM0moQWyZTAhf//6MsAAAAwG8XGnIAUhHwzUgEHetecshvMdxs/h6\n",
              "1uCkMPW2ndOeBWvlqHrfhk9Fh03ZGJFWww79n+XEPkf9CLuuFxVOo+il8vzU9l5mLpdcfSUnAvFJ\n",
              "qVFNUXnmBvpiRu5O0tVhvWxHTIl3mg4IU+6Mx+jv5c1fjhtxb4MfFGZHYAAAAC9Bn1FFFSwv/wAA\n",
              "AwBDZPh5Sv5q4BZLXMCYRFKjsMSBreBKLikB9s/VTM9H9YhswAAAAB4Bn3B0Qr8AAAMAXRLY02iJ\n",
              "HHfdzgvQvfOqJO94ccEAAAAmAZ9yakK/AAADAF0r3LxnzmsA6zI316bSFT2DSvATbQ5Q/TLcg+YA\n",
              "AAA+QZt3SahBbJlMCF///oywAAADAbxf6LQAoBHUURv6rH8P7+YYEhnYBE6NxuKGOwFGF1PQWy01\n",
              "0MeoG6uYOaAAAAAsQZ+VRRUsL/8AAAMAQ2dFHZR4olgVxQd8SGw5d/GWNf0q9+1OZdhnP+aWEvEA\n",
              "AAAlAZ+0dEK/AAADAF0x9jhIrwqMD83tA69EhDQOziaVZKSTG92CmgAAACABn7ZqQr8AAAMAWuv7\n",
              "N6SX2BbVoQKpTckvbBUHz0gWcQAAAINBm7tJqEFsmUwIX//+jLAAAAMBvGHU0YigKgAIggeBK/Yp\n",
              "FuKqXXGaf+FFABU+d6qWQlcvzs66fVhspzcNtxeZEQuqDQ+XhdnOafqyxM0R+VQFPhK/tZFbLfb9\n",
              "n/ItGG2QMRkBocOznYUg7gThRDzagdB0RjPlISO2kID2cnvDo7QiwQAAADFBn9lFFSwv/wAAAwBD\n",
              "ZzOMoci3B4ySOfo5sdcaGcQhySPAvDBfRs5UMh6Hmvkemsb0AAAAKAGf+HRCvwAAAwBdMfY1RkLZ\n",
              "VD77PRnvMegA82Bo2QeUAuMlD+YCg7sAAAAjAZ/6akK/AAADAAupnKsjWhe+k1hYvyuufj+fxtQs\n",
              "qVSEBLwAAACwQZv/SahBbJlMCF///oywAAADAbxiAQgP607HFF0ysy2AEDZA5g6wM27sScMrcrV+\n",
              "zO9WcuHUbjXWv264kzU7QS1BfGo4tkWrmfTse0PiTgeoezbqF2Km8V6Zlcx7X0IBA34WLrQoLfhk\n",
              "zYpf3+9OlFBFmeFZsLPeMqBesMRQ2mjbxQKHexx4q+1taDTXbxrfPMgLf1MXcPwRzN50VWqisrPf\n",
              "91RZ/iwO0LGw1kPVRvEAAAA+QZ4dRRUsL/8AAAMAQ2czjJmayvZfa7r76OcXWagBLUEocis7RqnW\n",
              "KD+lRwwTojY+FCJpH7K9auUgAU0obMEAAAA7AZ48dEK/AAADAF0yGQZgFqDVTaeb4LWm4L1MZUGG\n",
              "aQGpiAp6vPA9YuFF1W1/MAxWpuWFVwIPYZxwCDgAAAAdAZ4+akK/AAADAAQ3kfZ2W60n6qkxT28Z\n",
              "uc+CjFgAAACdQZojSahBbJlMCF///oywAAADAby6mFkYB8Jr8QTNnTzBTjgi8oADwvJzo6qvMdnV\n",
              "k47dhuLyJI5Q3UpS7mSyNB7qOhmPazvwT94wnPlnEsOTqXWd2bwh7XdEiXlfk8doWRzkGzUfVf4S\n",
              "atyd5puFYXelB8C301D6u09CHcHYNPOVAl45FNsXrP77W16cv6sgsjscu8yF+3pRCuHfZwAAADFB\n",
              "nkFFFSwv/wAAAwBDQBtKxp/1Pf004xOCAFvNjv1DoLBFXnbojSUKpwNm+Uh4IEPAAAAAGQGeYHRC\n",
              "vwAAAwBdEtjTYvYgpk3fRq6ASMEAAAAmAZ5iakK/AAADAF0r3LhJ1HL1/h4D6bKLfSEOSFk5l5qS\n",
              "/+zPivgAAAB3QZpnSahBbJlMCF///oywAAADAbyk3jILtAZ6b4tOv97/QfntcXZaFqxriDRzl6qb\n",
              "Avk2cwtV8ILmZm8Ya0fyATnKKL4WHUO4wQycOy7o9t6pCLgL4oCRwBJlKWe1Lky/tODwhKKXG3bo\n",
              "3jw5lz+ftlqplmhkHtkAAAAtQZ6FRRUsL/8AAAMAQ3xwQ70OuppcEiMBfuSOuiZAAE7Lp5jQsDhT\n",
              "n57uoYEPAAAAEQGepHRCvwAAAwAENdCNgAspAAAAIwGepmpCvwAAAwBdGieP+CX0gQAIftV8Er6G\n",
              "JkND976ggIeBAAAAjEGaq0moQWyZTAhf//6MsAAAAwG8XGSogISbstIpb10dVnvCkeCh1CqW5h03\n",
              "hxH4ZPT2BTpPc7Nc38DBERG8V5NEoDvCfk7pfsYrTFiDGSbOlgh9Rv8ON2LS9YYeRCDBdgpI5VAE\n",
              "eSTn+boGP3aHMcqRrmubie+JpTN68sRKhEJ/uRDrOISO0OqYwVKSAAAAL0GeyUUVLC//AAADAENy\n",
              "Wv6NBtpFOkE7eCz3+LY4AVo/03/Kd+Am8QmfLh7eeKMWAAAALAGe6HRCvwAAAwBdMhkJCFT89yp8\n",
              "piNAB99VZ3T+J+cbGoXEZg65N0oQ6eK/AAAAGgGe6mpCvwAAAwBdK9y8Ze5z+Y8tArlCoAsoAAAA\n",
              "pEGa70moQWyZTAhf//6MsAAAAwG8YdeTz5T58VKAA4Wy8HxZYHKRolu2wci8kJrKN/Vv/7Lcyc8Y\n",
              "7r0eyBxNzq78QRqoA5iDqPIHE8W8LBJjpDCE2E6pWKvSRuUPhEfJqnEuj9RrxpDy+q5E8JXmWUmA\n",
              "rkhp4tztin1AvLV/Y/WP5ro4+wSx84H0uyjnaaHxqOp95le8TNckBeJ17LRQiavBcAZIAAAANkGf\n",
              "DUUVLC//AAADAENzh/8xJDC5w5QkLSkRO9EHT2gw/rZLjPAechbXKwsuwzJ5J7apd6KMWQAAAB8B\n",
              "nyx0Qr8AAAMAC+/ieVkRXyi/zCWtA5oB40YLpRnxAAAAIAGfLmpCvwAAAwBdGieQGFS3Q45U8IPB\n",
              "VwkccMd5eAEPAAAAwUGbM0moQWyZTAhf//6MsAAAAwG8opWtwDU298k2WyXxSAWHIbQ63WLIXtRY\n",
              "IDGzhdamQBOnAyFnSLvaBatG95RkPxqoCQFPlMxfJV/MN+p5CZiGAAojVmxU/tXy3+FDaH3GPy6d\n",
              "pzMEixFhAEQBPssQuLAWmRK0NtBYeUXVNzVFY6BceMvxUmOn/yC82cdFchMNMzl9g3QoHxg9ED/C\n",
              "OI6YSvR/Z4Tz7wWWwxgBgkwpe/cNOo65Pk+aPzdAy6dx8OAAAAAyQZ9RRRUsL/8AAAMAQ2S1DJFy\n",
              "GJTlhEAoAJ6musmabdjanoUp2oPsL09AlIh+WqCSKaAAAAAfAZ9wdEK/AAADAF0S2NNbCX0hnPnU\n",
              "LFweok7+pFgOWQAAACYBn3JqQr8AAAMAXSvcvF7UVhu7eHgkjAZU9H9ti2dq+NwXJyjFgAAAAKJB\n",
              "m3dJqEFsmUwIX//+jLAAAAMBvFxhFhEu2iRuE8i/ubMldITsP9330yy1DOtr19Fm1TcM5ZCN80HD\n",
              "zqhY34ahnQproi8smxVamFPV+PSkgGZ1nwprocAwtFE/+S/Ah/HgIE7rluPnLL1+ZFMUUMXopR0D\n",
              "9ilmHEN+h1KkDnzbuN2jAEx0gE4QxSrlJ9gcsAvQM7TaHKDxM/t4avDURsQ1DPAAAABKQZ+VRRUs\n",
              "L/8AAAMAQ3KHzLOVUCgro9OAAndRiKMkPSM5GEu/QyZ9bTGcnDO+RJyJDDqxdz1OnJl4imkaOdlB\n",
              "+klC+xljg2CpFNEAAAAaAZ+0dEK/AAADAF0yGQkplUKhwY8v7HbMCtgAAAAyAZ+2akK/AAADAF0r\n",
              "3LzEYnQVAqAD0cDJRB96OShzPXarxVwTpSHHArCmgT/j5gUKMWEAAACSQZu7SahBbJlMCF///oyw\n",
              "AAADAb7hOg0ORagcEuX5vX+taAyuDaKg8I+6b+Lh215OTMQYl1YT0VEWGYbV+eK05XoOgaO+0wUc\n",
              "/PFVzFFENIlF14O72Fkq9LiD+fT6dqRZPuiR5tAfbEs3WS3/I1lF4NaFCblVz+aPCZTQFJkZxpi0\n",
              "T4/NaI3q/zLxDY9yW68Di5EAAAA/QZ/ZRRUsL/8AAAMAQ3F0eUql4l8/hPqBqvyvBP+1jRIAC5lg\n",
              "BCne7bX9rMmhuR1MgJJxkQ6XkH9Vr2LWAIeAAAAAIwGf+HRCvwAAAwBdEN+n8IGC45HuySa13d0R\n",
              "HomXIG0OwALTAAAAKQGf+mpCvwAAAwBa6/3EMH/yQbCQZYiPvJn2tSFtQd8pGJ3pqZLnpAasAAAA\n",
              "p0Gb/0moQWyZTAhf//6MsAAAAwGzk4p03CuDVjrABF+3y0VBnFctyiMTXEH7c5Dw3/W02YBumrn/\n",
              "zeOTtJepUq2etCK2+7tiqdCbs4YbAGKYJrW7VqNNC2X6wQGARFtZN8J6EZeo1tOGS/qWKJgaSPhm\n",
              "AhaFLjb6cjCoPqGqZwROFUXNWNgH74ADBvfjI0lORyNeVqbTcjjzxzDCPVWaOj4gGbmjIwPBAAAA\n",
              "NUGeHUUVLC//AAADAEF4FV4RTV3JvvG8IJHwk/pu0BdVznv7cLjB5ApPtUauJkIzVF7kn4EPAAAA\n",
              "IAGePHRCvwAAAwBa0wb5rR8V5frkcBCn5qgA13Q8YCHgAAAAIgGePmpCvwAAAwBa6fRPFIMzjbrG\n",
              "BEHMrKrlXVZLUvlsAsoAAACVQZojSahBbJlMCF///oywAAADAbK6042b4TvjOF7thZkNVO9g1ZvO\n",
              "6XvtmAMMK/rTv2C8qZvf71GXZoyrGeaNPM5ehXZ8UsNmaZdvYwVjW6sMdEPy/0A4BkY3BoQqMU5N\n",
              "XR/iClnma7ODzURRy5LVaOj7iFV7LmPUVXb/c/fSqtCHer3v6BDpXQ99SLC5DxehtHSCOBsAAABQ\n",
              "QZ5BRRUsL/8AAAMAQXKIlojxMHBgM2ooCSPcGctW49WefxZGPb3v0ALY0ci3QKyxbVyet6hNElCF\n",
              "/ECb00eFrYbVE9nFzq3I9jOph/4JjZgAAAAoAZ5gdEK/AAADAFrySYILauQLviTFeT+6OtWnVjJs\n",
              "5J4gwUbgRc+K+QAAADQBnmJqQr8AAAMAWtpxDVR84jAzgZGugGykzHZSF0Ost4ZLt/vA2C+GAAMq\n",
              "j3Sd/MWSzYd0AAAARUGaZ0moQWyZTAhX//44QAAABppETtARKgAaaUoYXMsN31O8/rUqtErb0+o1\n",
              "V8ZVcC7PxHh7m+59UMH6bPpHfoG2/Nzl4QAAAEtBnoVFFSwv/wAAAwBBZCqV5bRBj36jcfJFyMHM\n",
              "TxjRAvAMzXwSewACdWQBOqkqPW3EDwGKK8A25xjN9Ku+oN3E2yuhiO+O+X5KOOEAAAAvAZ6kdEK/\n",
              "AAADAFrTBg+ErAPRVvrmO8FwwvLgw2w/ykAP4F0rz259IbQO6sMw3oEAAAA4AZ6makK/AAADAFrW\n",
              "LnusLjCKvz6gmn+hLbDw673cxs8IXwgGNRoANoAUkn392fNlUUF7WGC8Ai8AAAyKbW9vdgAAAGxt\n",
              "dmhkAAAAAAAAAAAAAAAAAAAD6AAAH0AAAQAAAQAAAAAAAAAAAAAAAAEAAAAAAAAAAAAAAAAAAAAB\n",
              "AAAAAAAAAAAAAAAAAABAAAAAAAAAAAAAAAAAAAAAAAAAAAAAAAAAAAAAAAAAAgAAC7R0cmFrAAAA\n",
              "XHRraGQAAAADAAAAAAAAAAAAAAABAAAAAAAAH0AAAAAAAAAAAAAAAAAAAAAAAAEAAAAAAAAAAAAA\n",
              "AAAAAAABAAAAAAAAAAAAAAAAAABAAAAAAoAAAAHgAAAAAAAkZWR0cwAAABxlbHN0AAAAAAAAAAEA\n",
              "AB9AAAAEAAABAAAAAAssbWRpYQAAACBtZGhkAAAAAAAAAAAAAAAAAAAyAAABkABVxAAAAAAALWhk\n",
              "bHIAAAAAAAAAAHZpZGUAAAAAAAAAAAAAAABWaWRlb0hhbmRsZXIAAAAK121pbmYAAAAUdm1oZAAA\n",
              "AAEAAAAAAAAAAAAAACRkaW5mAAAAHGRyZWYAAAAAAAAAAQAAAAx1cmwgAAAAAQAACpdzdGJsAAAA\n",
              "t3N0c2QAAAAAAAAAAQAAAKdhdmMxAAAAAAAAAAEAAAAAAAAAAAAAAAAAAAAAAoAB4ABIAAAASAAA\n",
              "AAAAAAABAAAAAAAAAAAAAAAAAAAAAAAAAAAAAAAAAAAAAAAAAAAAGP//AAAANWF2Y0MBZAAe/+EA\n",
              "GGdkAB6s2UCgPaEAAAMAAQAAAwAyDxYtlgEABmjr48siwP34+AAAAAAcdXVpZGtoQPJfJE/Fujml\n",
              "G88DI/MAAAAAAAAAGHN0dHMAAAAAAAAAAQAAAMgAAAIAAAAAFHN0c3MAAAAAAAAAAQAAAAEAAAZI\n",
              "Y3R0cwAAAAAAAADHAAAAAQAABAAAAAABAAAKAAAAAAEAAAQAAAAAAQAAAAAAAAABAAACAAAAAAEA\n",
              "AAoAAAAAAQAABAAAAAABAAAAAAAAAAEAAAIAAAAAAQAACgAAAAABAAAEAAAAAAEAAAAAAAAAAQAA\n",
              "AgAAAAABAAAKAAAAAAEAAAQAAAAAAQAAAAAAAAABAAACAAAAAAEAAAoAAAAAAQAABAAAAAABAAAA\n",
              "AAAAAAEAAAIAAAAAAQAACgAAAAABAAAEAAAAAAEAAAAAAAAAAQAAAgAAAAABAAAKAAAAAAEAAAQA\n",
              "AAAAAQAAAAAAAAABAAACAAAAAAEAAAoAAAAAAQAABAAAAAABAAAAAAAAAAEAAAIAAAAAAQAACgAA\n",
              "AAABAAAEAAAAAAEAAAAAAAAAAQAAAgAAAAABAAAKAAAAAAEAAAQAAAAAAQAAAAAAAAABAAACAAAA\n",
              "AAEAAAoAAAAAAQAABAAAAAABAAAAAAAAAAEAAAIAAAAAAQAACgAAAAABAAAEAAAAAAEAAAAAAAAA\n",
              "AQAAAgAAAAABAAAIAAAAAAIAAAIAAAAAAQAACgAAAAABAAAEAAAAAAEAAAAAAAAAAQAAAgAAAAAB\n",
              "AAAKAAAAAAEAAAQAAAAAAQAAAAAAAAABAAACAAAAAAEAAAoAAAAAAQAABAAAAAABAAAAAAAAAAEA\n",
              "AAIAAAAAAQAACgAAAAABAAAEAAAAAAEAAAAAAAAAAQAAAgAAAAABAAAKAAAAAAEAAAQAAAAAAQAA\n",
              "AAAAAAABAAACAAAAAAEAAAoAAAAAAQAABAAAAAABAAAAAAAAAAEAAAIAAAAAAQAACgAAAAABAAAE\n",
              "AAAAAAEAAAAAAAAAAQAAAgAAAAABAAAKAAAAAAEAAAQAAAAAAQAAAAAAAAABAAACAAAAAAEAAAoA\n",
              "AAAAAQAABAAAAAABAAAAAAAAAAEAAAIAAAAAAQAACgAAAAABAAAEAAAAAAEAAAAAAAAAAQAAAgAA\n",
              "AAABAAAKAAAAAAEAAAQAAAAAAQAAAAAAAAABAAACAAAAAAEAAAoAAAAAAQAABAAAAAABAAAAAAAA\n",
              "AAEAAAIAAAAAAQAACgAAAAABAAAEAAAAAAEAAAAAAAAAAQAAAgAAAAABAAAKAAAAAAEAAAQAAAAA\n",
              "AQAAAAAAAAABAAACAAAAAAEAAAoAAAAAAQAABAAAAAABAAAAAAAAAAEAAAIAAAAAAQAACgAAAAAB\n",
              "AAAEAAAAAAEAAAAAAAAAAQAAAgAAAAABAAAKAAAAAAEAAAQAAAAAAQAAAAAAAAABAAACAAAAAAEA\n",
              "AAoAAAAAAQAABAAAAAABAAAAAAAAAAEAAAIAAAAAAQAACgAAAAABAAAEAAAAAAEAAAAAAAAAAQAA\n",
              "AgAAAAABAAAKAAAAAAEAAAQAAAAAAQAAAAAAAAABAAACAAAAAAEAAAoAAAAAAQAABAAAAAABAAAA\n",
              "AAAAAAEAAAIAAAAAAQAACgAAAAABAAAEAAAAAAEAAAAAAAAAAQAAAgAAAAABAAAKAAAAAAEAAAQA\n",
              "AAAAAQAAAAAAAAABAAACAAAAAAEAAAoAAAAAAQAABAAAAAABAAAAAAAAAAEAAAIAAAAAAQAACgAA\n",
              "AAABAAAEAAAAAAEAAAAAAAAAAQAAAgAAAAABAAAKAAAAAAEAAAQAAAAAAQAAAAAAAAABAAACAAAA\n",
              "AAEAAAoAAAAAAQAABAAAAAABAAAAAAAAAAEAAAIAAAAAAQAACgAAAAABAAAEAAAAAAEAAAAAAAAA\n",
              "AQAAAgAAAAABAAAKAAAAAAEAAAQAAAAAAQAAAAAAAAABAAACAAAAAAEAAAoAAAAAAQAABAAAAAAB\n",
              "AAAAAAAAAAEAAAIAAAAAAQAACgAAAAABAAAEAAAAAAEAAAAAAAAAAQAAAgAAAAABAAAKAAAAAAEA\n",
              "AAQAAAAAAQAAAAAAAAABAAACAAAAAAEAAAoAAAAAAQAABAAAAAABAAAAAAAAAAEAAAIAAAAAAQAA\n",
              "CgAAAAABAAAEAAAAAAEAAAAAAAAAAQAAAgAAAAABAAAKAAAAAAEAAAQAAAAAAQAAAAAAAAABAAAC\n",
              "AAAAAAEAAAoAAAAAAQAABAAAAAABAAAAAAAAAAEAAAIAAAAAAQAACgAAAAABAAAEAAAAAAEAAAAA\n",
              "AAAAAQAAAgAAAAAcc3RzYwAAAAAAAAABAAAAAQAAAMgAAAABAAADNHN0c3oAAAAAAAAAAAAAAMgA\n",
              "AARIAAAApwAAACUAAAAyAAAAFAAAAGMAAAAnAAAALwAAABQAAACRAAAAMgAAACMAAAAiAAAAhwAA\n",
              "ACsAAAAcAAAAIAAAAJcAAAAoAAAAJwAAABwAAACvAAAAOAAAACEAAAAkAAAAYQAAACIAAAAUAAAA\n",
              "HgAAAEEAAAA8AAAAIAAAAD0AAACSAAAAJAAAACEAAAAUAAAAowAAACgAAAAsAAAAFAAAAJgAAAAs\n",
              "AAAAHAAAACEAAABLAAAAIwAAABwAAAAUAAAAhgAAACUAAAAgAAAAkgAAACIAAAAmAAAAFAAAAH8A\n",
              "AAAsAAAAHAAAAB8AAACcAAAALgAAAB4AAAAhAAAAOAAAAEwAAAAjAAAAJwAAAJAAAAA4AAAAIwAA\n",
              "ACsAAACTAAAALAAAAB8AAAArAAAASgAAACMAAAAbAAAAHAAAAIQAAAAsAAAAIAAAABwAAACMAAAA\n",
              "LgAAABoAAAAnAAAAmAAAACoAAAAUAAAAKwAAAGEAAAArAAAAIgAAAB4AAACGAAAAMAAAACUAAAAh\n",
              "AAAAmQAAACwAAAAcAAAAIAAAAFMAAAA1AAAAHgAAAB8AAAB7AAAAMQAAACAAAAAdAAAAugAAAEAA\n",
              "AAAlAAAAJwAAADkAAAAwAAAAIwAAACMAAACEAAAANwAAAB8AAAAeAAAAjQAAADAAAAAgAAAAIAAA\n",
              "AI0AAAA4AAAAKwAAACMAAACDAAAAKwAAABoAAAAfAAAAigAAACUAAAAnAAAAFwAAAHMAAAAsAAAA\n",
              "JwAAABgAAACRAAAAMwAAACIAAAAqAAAAQgAAADAAAAApAAAAJAAAAIcAAAA1AAAALAAAACcAAAC0\n",
              "AAAAQgAAAD8AAAAhAAAAoQAAADUAAAAdAAAAKgAAAHsAAAAxAAAAFQAAACcAAACQAAAAMwAAADAA\n",
              "AAAeAAAAqAAAADoAAAAjAAAAJAAAAMUAAAA2AAAAIwAAACoAAACmAAAATgAAAB4AAAA2AAAAlgAA\n",
              "AEMAAAAnAAAALQAAAKsAAAA5AAAAJAAAACYAAACZAAAAVAAAACwAAAA4AAAASQAAAE8AAAAzAAAA\n",
              "PAAAABRzdGNvAAAAAAAAAAEAAAAwAAAAYnVkdGEAAABabWV0YQAAAAAAAAAhaGRscgAAAAAAAAAA\n",
              "bWRpcmFwcGwAAAAAAAAAAAAAAAAtaWxzdAAAACWpdG9vAAAAHWRhdGEAAAABAAAAAExhdmY1OC43\n",
              "Ni4xMDA=\n",
              "\">\n",
              "  Your browser does not support the video tag.\n",
              "</video>"
            ]
          },
          "metadata": {},
          "execution_count": 19
        }
      ]
    },
    {
      "cell_type": "code",
      "source": [
        "plt.figure(figsize=(8, 4))\n",
        "plt.plot(rewards)\n",
        "plt.xlabel(\"Episode\", fontsize=14)\n",
        "plt.ylabel(\"Sum of rewards\", fontsize=14)\n",
        "plt.grid(True)\n",
        "plt.show()"
      ],
      "metadata": {
        "id": "7PUJPvzSgUtA",
        "colab": {
          "base_uri": "https://localhost:8080/",
          "height": 393
        },
        "outputId": "5d913a98-60bb-4346-e5a0-af5240df8119"
      },
      "execution_count": null,
      "outputs": [
        {
          "output_type": "display_data",
          "data": {
            "text/plain": [
              "<Figure size 800x400 with 1 Axes>"
            ],
            "image/png": "[encoded data removed]"
          },
          "metadata": {}
        }
      ]
    }
  ]
}